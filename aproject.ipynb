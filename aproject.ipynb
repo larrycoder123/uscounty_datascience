{
 "cells": [
  {
   "cell_type": "code",
   "execution_count": 1,
   "metadata": {},
   "outputs": [],
   "source": [
    "import pandas as pd"
   ]
  },
  {
   "cell_type": "markdown",
   "metadata": {},
   "source": [
    "### Import and modify the dataset"
   ]
  },
  {
   "cell_type": "code",
   "execution_count": 2,
   "metadata": {},
   "outputs": [],
   "source": [
    "county_df = pd.read_csv(\"./data/merged_county_data.csv\", dtype={\"fips_column\": str})"
   ]
  },
  {
   "cell_type": "markdown",
   "metadata": {},
   "source": [
    "#### Group Industries"
   ]
  },
  {
   "cell_type": "code",
   "execution_count": 3,
   "metadata": {},
   "outputs": [],
   "source": [
    "# Group: Resource Extraction\n",
    "county_df[\"pct_employed_resource_extraction\"] = county_df[[\"pct_employed_agriculture_forestry_fishing_hunting_mining\"]].sum(axis=1)\n",
    "\n",
    "# Group: Manufacturing and Construction\n",
    "county_df[\"pct_employed_manufacturing_construction\"] = county_df[[\"pct_employed_construction\", \"pct_employed_manufacturing\"]].sum(axis=1)\n",
    "\n",
    "# Group: Trade and Transportation\n",
    "county_df[\"pct_employed_trade_transportation_utilities\"] = county_df[[\"pct_employed_wholesale_trade\", \n",
    "                                                                      \"pct_employed_retail_trade\", \n",
    "                                                                      \"pct_employed_transportation_warehousing_utilities\"]].sum(axis=1)\n",
    "\n",
    "# Group: Knowledge Based\n",
    "county_df[\"pct_employed_knowledge_professional\"] = county_df[[\"pct_employed_information\", \n",
    "                                                               \"pct_employed_finance_insurance_real_estate\", \n",
    "                                                               \"pct_employed_professional_scientific_management_administration\"]].sum(axis=1)\n",
    "\n",
    "# Group: Essential (Public and Social)\n",
    "county_df[\"pct_employed_public_social\"] = county_df[[\"pct_employed_education_healthcare_social_assistance\", \n",
    "                                                      \"pct_employed_public_administration\"]].sum(axis=1)\n",
    "\n",
    "# Group: Recreation and Other\n",
    "county_df[\"pct_employed_hospitality_other\"] = county_df[[\"pct_employed_arts_entertainment_recreation_food_accommodation\", \n",
    "                                                          \"pct_employed_other_services\"]].sum(axis=1)                                                          "
   ]
  },
  {
   "cell_type": "code",
   "execution_count": null,
   "metadata": {},
   "outputs": [],
   "source": [
    "# Round newly created columns to 4 decimals\n",
    "\n",
    "county_rounding_dict = {\n",
    "    \"pct_employed_resource_extraction\": 4,\n",
    "    \"pct_employed_manufacturing_construction\": 4,\n",
    "    \"pct_employed_trade_transportation_utilities\": 4,\n",
    "    \"pct_employed_knowledge_professional\": 4,\n",
    "    \"pct_employed_public_social\": 4,\n",
    "    \"pct_employed_hospitality_other\": 4,\n",
    "}\n",
    "\n",
    "county_df = county_df.round(county_rounding_dict)"
   ]
  },
  {
   "cell_type": "markdown",
   "metadata": {},
   "source": [
    "#### Drop Columns"
   ]
  },
  {
   "cell_type": "code",
   "execution_count": 5,
   "metadata": {},
   "outputs": [],
   "source": [
    "columns_to_drop = [\n",
    "    \"households\",\n",
    "    \"mean_household_size\",\n",
    "    \"pct_employed_agriculture_forestry_fishing_hunting_mining\",\n",
    "    \"pct_employed_construction\",\n",
    "    \"pct_employed_manufacturing\",\n",
    "    \"pct_employed_wholesale_trade\",\n",
    "    \"pct_employed_retail_trade\",\n",
    "    \"pct_employed_transportation_warehousing_utilities\",\n",
    "    \"pct_employed_information\",\n",
    "    \"pct_employed_finance_insurance_real_estate\",\n",
    "    \"pct_employed_professional_scientific_management_administration\",\n",
    "    \"pct_employed_education_healthcare_social_assistance\",\n",
    "    \"pct_employed_public_administration\",\n",
    "    \"pct_employed_arts_entertainment_recreation_food_accommodation\",\n",
    "    \"pct_employed_other_services\"\n",
    "]\n",
    "\n",
    "county_df.drop(columns = columns_to_drop, inplace=True)"
   ]
  },
  {
   "cell_type": "markdown",
   "metadata": {},
   "source": [
    "#### Save and retrieve dataset"
   ]
  },
  {
   "cell_type": "markdown",
   "metadata": {},
   "source": [
    "Variable Explainations as a table"
   ]
  },
  {
   "cell_type": "code",
   "execution_count": 6,
   "metadata": {},
   "outputs": [
    {
     "name": "stdout",
     "output_type": "stream",
     "text": [
      "<class 'pandas.core.frame.DataFrame'>\n",
      "RangeIndex: 3144 entries, 0 to 3143\n",
      "Data columns (total 34 columns):\n",
      " #   Column                                       Non-Null Count  Dtype  \n",
      "---  ------                                       --------------  -----  \n",
      " 0   fips_code                                    3144 non-null   int64  \n",
      " 1   county_name                                  3144 non-null   object \n",
      " 2   state_name                                   3144 non-null   object \n",
      " 3   rucc                                         3144 non-null   int64  \n",
      " 4   area_classification                          3144 non-null   object \n",
      " 5   latitude                                     3144 non-null   float64\n",
      " 6   longitude                                    3144 non-null   float64\n",
      " 7   population                                   3144 non-null   int64  \n",
      " 8   median_age                                   3144 non-null   float64\n",
      " 9   birth_rate                                   3144 non-null   float64\n",
      " 10  death_rate                                   3144 non-null   float64\n",
      " 11  males_per_100_females                        3144 non-null   float64\n",
      " 12  poverty_rate                                 3143 non-null   float64\n",
      " 13  unemployment_rate                            3134 non-null   float64\n",
      " 14  labor_force_participation_rate               3144 non-null   float64\n",
      " 15  median_household_income                      3144 non-null   int64  \n",
      " 16  mean_household_income                        3144 non-null   int64  \n",
      " 17  pct_pop_25plus_highschool_plus               3144 non-null   float64\n",
      " 18  pct_pop_25plus_bachelor_plus                 3144 non-null   float64\n",
      " 19  pct_households_limited_english_proficiency   3144 non-null   float64\n",
      " 20  pct_pop_health_insured                       3144 non-null   float64\n",
      " 21  pct_households_with_internet                 3144 non-null   float64\n",
      " 22  mean_zhvi_home_value                         3062 non-null   float64\n",
      " 23  median_monthly_housing_cost                  3144 non-null   float64\n",
      " 24  median_monthly_housing_cost_owner_occupied   3144 non-null   float64\n",
      " 25  median_monthly_housing_cost_renter_occupied  3144 non-null   float64\n",
      " 26  pct_households_owner_occupied                3144 non-null   float64\n",
      " 27  pct_households_renter_occupied               3144 non-null   float64\n",
      " 28  pct_employed_resource_extraction             3144 non-null   float64\n",
      " 29  pct_employed_manufacturing_construction      3144 non-null   float64\n",
      " 30  pct_employed_trade_transportation_utilities  3144 non-null   float64\n",
      " 31  pct_employed_knowledge_professional          3144 non-null   float64\n",
      " 32  pct_employed_public_social                   3144 non-null   float64\n",
      " 33  pct_employed_hospitality_other               3144 non-null   float64\n",
      "dtypes: float64(26), int64(5), object(3)\n",
      "memory usage: 835.3+ KB\n"
     ]
    }
   ],
   "source": [
    "# Save to csv \"county_data.csv\"\n",
    "county_df.to_csv(\"./data/county_data.csv\", index=False)\n",
    "\n",
    "# Retrieve dataset\n",
    "county_df = pd.read_csv(\"./data/county_data.csv\", dtype={\"fips_column\": str})\n",
    "\n",
    "county_df.info()"
   ]
  }
 ],
 "metadata": {
  "kernelspec": {
   "display_name": ".venv",
   "language": "python",
   "name": "python3"
  },
  "language_info": {
   "codemirror_mode": {
    "name": "ipython",
    "version": 3
   },
   "file_extension": ".py",
   "mimetype": "text/x-python",
   "name": "python",
   "nbconvert_exporter": "python",
   "pygments_lexer": "ipython3",
   "version": "3.13.2"
  }
 },
 "nbformat": 4,
 "nbformat_minor": 2
}
