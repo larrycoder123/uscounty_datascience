{
 "cells": [
  {
   "cell_type": "code",
   "execution_count": 1,
   "metadata": {},
   "outputs": [],
   "source": [
    "import pandas as pd"
   ]
  },
  {
   "cell_type": "code",
   "execution_count": 2,
   "metadata": {},
   "outputs": [],
   "source": [
    "data_other = pd.read_csv(\"./datanew/data_other_merged.csv\", dtype={\"FIPS Code\": str})\n",
    "\n",
    "data_uscensus = pd.read_csv(\"./datanew/data_uscensus_merged.csv\", dtype={\"FIPS Code\": str})"
   ]
  },
  {
   "cell_type": "code",
   "execution_count": 3,
   "metadata": {},
   "outputs": [],
   "source": [
    "alldata_df = pd.merge(data_uscensus, data_other, how=\"inner\")"
   ]
  },
  {
   "cell_type": "code",
   "execution_count": 5,
   "metadata": {},
   "outputs": [],
   "source": [
    "alldata_neworder = [\n",
    "    # Identifiers\n",
    "    \"FIPS Code\", \n",
    "    \"County Name\", \n",
    "    \"State Name\", \n",
    "    \n",
    "    # Geographic Data\n",
    "    \"Latitude\", \n",
    "    \"Longitude\", \n",
    "    \"RUCC\", \n",
    "    \"AreaClassification\",\n",
    "    \n",
    "    # Demographics\n",
    "    \"Population\",\n",
    "    \"GeneralFertilityRate\",\n",
    "    \n",
    "    # Education\n",
    "    \"Pop25+!HighSchool+!Percentage\", \n",
    "    \"Pop25+!BachelorsDegree+!Percentage\",\n",
    "\n",
    "    # Economic Data\n",
    "    \"Unemployment Rate\", \n",
    "    \"Poverty Rate\", \n",
    "    \"Housholds!MeanIncome\",\n",
    "\n",
    "    # Housing Data\n",
    "    \"Avg 2023 ZHVI\",\n",
    "    \n",
    "    # Household Data\n",
    "    \"Households!Total\",\n",
    "    \"Households!Average Household Size\", \n",
    "    \"Households!WithInternetSubscription!Percentage\",\n",
    "    \n",
    "    # Employment by Sector\n",
    "    \"16+Employed!Total\",\n",
    "    \"16+Employed!AgricultureForestryFishingHuntingMining!Percentage\",\n",
    "    \"16+Employed!Construction!Percentage\",\n",
    "    \"16+Employed!Manufacturing!Percentage\",\n",
    "    \"16+Employed!Wholesaletrade!Percentage\",\n",
    "    \"16+Employed!Retailtrade!Percentage\",\n",
    "    \"16+Employed!TransportationWarehousingUtilities!Percentage\",\n",
    "    \"16+Employed!Information!Percentage\",\n",
    "    \"16+Employed!FinanceInsuranceRealestate!Percentage\",\n",
    "    \"16+Employed!ProfessionalScientificManagementAdministrativeServices!Percentage\",\n",
    "    \"16+Employed!EducationHealthcareSocialassistance!Percentage\",\n",
    "    \"16+Employed!ArtsEntertainmentRecreationAccommodationFood!Percentage\",\n",
    "    \"16+Employed!Otherservices!Percentage\",\n",
    "    \"16+Employed!Publicadministration!Percentage\"\n",
    "]\n",
    "\n",
    "alldata_df = alldata_df[alldata_neworder]"
   ]
  },
  {
   "cell_type": "code",
   "execution_count": 6,
   "metadata": {},
   "outputs": [
    {
     "name": "stdout",
     "output_type": "stream",
     "text": [
      "<class 'pandas.core.frame.DataFrame'>\n",
      "RangeIndex: 3144 entries, 0 to 3143\n",
      "Data columns (total 32 columns):\n",
      " #   Column                                                                         Non-Null Count  Dtype  \n",
      "---  ------                                                                         --------------  -----  \n",
      " 0   FIPS Code                                                                      3144 non-null   object \n",
      " 1   County Name                                                                    3144 non-null   object \n",
      " 2   State Name                                                                     3144 non-null   object \n",
      " 3   Latitude                                                                       3144 non-null   float64\n",
      " 4   Longitude                                                                      3144 non-null   float64\n",
      " 5   RUCC                                                                           3144 non-null   int64  \n",
      " 6   AreaClassification                                                             3144 non-null   object \n",
      " 7   Population                                                                     3144 non-null   float64\n",
      " 8   GeneralFertilityRate                                                           3143 non-null   float64\n",
      " 9   Pop25+!HighSchool+!Percentage                                                  3144 non-null   float64\n",
      " 10  Pop25+!BachelorsDegree+!Percentage                                             3144 non-null   float64\n",
      " 11  Unemployment Rate                                                              3134 non-null   float64\n",
      " 12  Poverty Rate                                                                   3143 non-null   float64\n",
      " 13  Housholds!MeanIncome                                                           3144 non-null   int64  \n",
      " 14  Avg 2023 ZHVI                                                                  3062 non-null   float64\n",
      " 15  Households!Total                                                               3144 non-null   float64\n",
      " 16  Households!Average Household Size                                              3144 non-null   float64\n",
      " 17  Households!WithInternetSubscription!Percentage                                 3144 non-null   float64\n",
      " 18  16+Employed!Total                                                              3144 non-null   int64  \n",
      " 19  16+Employed!AgricultureForestryFishingHuntingMining!Percentage                 3144 non-null   float64\n",
      " 20  16+Employed!Construction!Percentage                                            3144 non-null   float64\n",
      " 21  16+Employed!Manufacturing!Percentage                                           3144 non-null   float64\n",
      " 22  16+Employed!Wholesaletrade!Percentage                                          3144 non-null   float64\n",
      " 23  16+Employed!Retailtrade!Percentage                                             3144 non-null   float64\n",
      " 24  16+Employed!TransportationWarehousingUtilities!Percentage                      3144 non-null   float64\n",
      " 25  16+Employed!Information!Percentage                                             3144 non-null   float64\n",
      " 26  16+Employed!FinanceInsuranceRealestate!Percentage                              3144 non-null   float64\n",
      " 27  16+Employed!ProfessionalScientificManagementAdministrativeServices!Percentage  3144 non-null   float64\n",
      " 28  16+Employed!EducationHealthcareSocialassistance!Percentage                     3144 non-null   float64\n",
      " 29  16+Employed!ArtsEntertainmentRecreationAccommodationFood!Percentage            3144 non-null   float64\n",
      " 30  16+Employed!Otherservices!Percentage                                           3144 non-null   float64\n",
      " 31  16+Employed!Publicadministration!Percentage                                    3144 non-null   float64\n",
      "dtypes: float64(25), int64(3), object(4)\n",
      "memory usage: 786.1+ KB\n"
     ]
    }
   ],
   "source": [
    "alldata_df.info()"
   ]
  },
  {
   "cell_type": "code",
   "execution_count": 7,
   "metadata": {},
   "outputs": [],
   "source": [
    "alldata_df.to_csv(\"datanew/alldata_merged.csv\", index = False)"
   ]
  }
 ],
 "metadata": {
  "kernelspec": {
   "display_name": ".venv",
   "language": "python",
   "name": "python3"
  },
  "language_info": {
   "codemirror_mode": {
    "name": "ipython",
    "version": 3
   },
   "file_extension": ".py",
   "mimetype": "text/x-python",
   "name": "python",
   "nbconvert_exporter": "python",
   "pygments_lexer": "ipython3",
   "version": "3.13.2"
  }
 },
 "nbformat": 4,
 "nbformat_minor": 2
}
