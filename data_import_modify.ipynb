{
 "cells": [
  {
   "cell_type": "code",
   "execution_count": 2,
   "metadata": {},
   "outputs": [],
   "source": [
    "import requests\n",
    "import csv\n",
    "import os \n",
    "import pandas as pd\n",
    "import re"
   ]
  },
  {
   "cell_type": "markdown",
   "metadata": {},
   "source": [
    "## US Census Data"
   ]
  },
  {
   "cell_type": "markdown",
   "metadata": {},
   "source": [
    "### Helper Functions "
   ]
  },
  {
   "cell_type": "code",
   "execution_count": 3,
   "metadata": {},
   "outputs": [],
   "source": [
    "from uscensus_functions import uscensus_importcsv\n",
    "\n",
    "from uscensus_functions import uscensus_modify"
   ]
  },
  {
   "cell_type": "markdown",
   "metadata": {},
   "source": [
    "```python\n",
    "\n",
    "# Specify the desired variables and rename them\n",
    "name_dictionary = {\n",
    "    # \"USCensusVariable\": \"Desired Name\" \n",
    "    \"S_\": \"Population\",\n",
    "}\n",
    "\n",
    "# Specify the year of the data\n",
    "name_year = \"2000\"\n",
    "\n",
    "# Specify the file name for the csv file\n",
    "name_output_file_name = \"name_county_2023.csv\"\n",
    "\n",
    "name_output_file_path, name_specific_variables = uscensus_importcsv(name_dictionary, name_year, name_output_file_name)\n",
    "\n",
    "uscensus_modify(name_output_file_path, name_specific_variables)"
   ]
  },
  {
   "cell_type": "markdown",
   "metadata": {},
   "source": [
    "```python\n",
    "\n",
    "# Specify the folder where the file will be saved\n",
    "data_folder = \"data_uscensus\"\n",
    "\n",
    "# Specify the text file where the US Census API is stored\n",
    "api_file = \"apikey_uscensus.txt\"\n",
    "\n",
    "# Different data series require different api requests \n",
    "# https://censusreporter.org/topics/table-codes/\n",
    "# check api link for specific table \n",
    "series_dictionary = {\n",
    "    \"B\": \"\",\n",
    "    \"S\": \"/subject\",\n",
    "    \"DP\": \"/profile\"\n",
    "}\n",
    "\n",
    "# Specify the year of the data\n",
    "year = \"2023\"\n"
   ]
  },
  {
   "cell_type": "markdown",
   "metadata": {},
   "source": [
    "### Demographics\n",
    "\n",
    "**Dataset Link:** https://data.census.gov/table/ACSDP5Y2023.DP05?q=county&y=2023\n",
    "\n",
    "**License:** Public Domain\n",
    "\n",
    "**Dataset Name (CSV):** demographics.csv\n",
    "\n",
    "| Variable Name          | Explanation                                  | Import Code / Derivation | CSV  | Final Dataset  |\n",
    "|------------------------|----------------------------------------------|--------------------------|------|--------------|\n",
    "| median_age            | Median age across the total population.      | DP05_0018E               | [x]  | [x]          |\n",
    "| males_per_100_females | Number of males per 100 females (Sex Ratio). | DP05_0004E               | [x]  | [x]          |\n",
    "\n",
    "\n"
   ]
  },
  {
   "cell_type": "code",
   "execution_count": 4,
   "metadata": {},
   "outputs": [],
   "source": [
    "demographics_dictionary = {\n",
    "    \"DP05_0018E\": \"median_age\",\n",
    "    \"DP05_0004E\": \"males_per_100_females\"\n",
    "}\n",
    "\n",
    "demographics_year = \"2023\"\n",
    "\n",
    "demographics_output_file_name = \"demographics_county_2023.csv\""
   ]
  },
  {
   "cell_type": "code",
   "execution_count": 5,
   "metadata": {},
   "outputs": [
    {
     "name": "stdout",
     "output_type": "stream",
     "text": [
      "Existing file found, removing...\n",
      "Imported Variables:['median_age', 'males_per_100_females']\n",
      "Data saved to data_uscensus\\demographics_county_2023.csv\n",
      "data_uscensus\\demographics_county_2023.csv has been modified and saved\n"
     ]
    }
   ],
   "source": [
    "demographics_output_file_path, demographics_specific_variables = uscensus_importcsv(demographics_dictionary, demographics_year, demographics_output_file_name)\n",
    "\n",
    "uscensus_modify(demographics_output_file_path, demographics_specific_variables)"
   ]
  },
  {
   "cell_type": "code",
   "execution_count": 6,
   "metadata": {},
   "outputs": [
    {
     "data": {
      "text/html": [
       "<div>\n",
       "<style scoped>\n",
       "    .dataframe tbody tr th:only-of-type {\n",
       "        vertical-align: middle;\n",
       "    }\n",
       "\n",
       "    .dataframe tbody tr th {\n",
       "        vertical-align: top;\n",
       "    }\n",
       "\n",
       "    .dataframe thead th {\n",
       "        text-align: right;\n",
       "    }\n",
       "</style>\n",
       "<table border=\"1\" class=\"dataframe\">\n",
       "  <thead>\n",
       "    <tr style=\"text-align: right;\">\n",
       "      <th></th>\n",
       "      <th>fips_code</th>\n",
       "      <th>county_name</th>\n",
       "      <th>state_name</th>\n",
       "      <th>median_age</th>\n",
       "      <th>males_per_100_females</th>\n",
       "    </tr>\n",
       "  </thead>\n",
       "  <tbody>\n",
       "    <tr>\n",
       "      <th>0</th>\n",
       "      <td>01001</td>\n",
       "      <td>Autauga County</td>\n",
       "      <td>Alabama</td>\n",
       "      <td>39.2</td>\n",
       "      <td>93.6</td>\n",
       "    </tr>\n",
       "    <tr>\n",
       "      <th>1</th>\n",
       "      <td>01003</td>\n",
       "      <td>Baldwin County</td>\n",
       "      <td>Alabama</td>\n",
       "      <td>43.7</td>\n",
       "      <td>95.7</td>\n",
       "    </tr>\n",
       "    <tr>\n",
       "      <th>2</th>\n",
       "      <td>01005</td>\n",
       "      <td>Barbour County</td>\n",
       "      <td>Alabama</td>\n",
       "      <td>40.7</td>\n",
       "      <td>108.9</td>\n",
       "    </tr>\n",
       "    <tr>\n",
       "      <th>3</th>\n",
       "      <td>01007</td>\n",
       "      <td>Bibb County</td>\n",
       "      <td>Alabama</td>\n",
       "      <td>41.3</td>\n",
       "      <td>114.5</td>\n",
       "    </tr>\n",
       "    <tr>\n",
       "      <th>4</th>\n",
       "      <td>01009</td>\n",
       "      <td>Blount County</td>\n",
       "      <td>Alabama</td>\n",
       "      <td>40.9</td>\n",
       "      <td>102.0</td>\n",
       "    </tr>\n",
       "  </tbody>\n",
       "</table>\n",
       "</div>"
      ],
      "text/plain": [
       "  fips_code     county_name state_name  median_age  males_per_100_females\n",
       "0     01001  Autauga County    Alabama        39.2                   93.6\n",
       "1     01003  Baldwin County    Alabama        43.7                   95.7\n",
       "2     01005  Barbour County    Alabama        40.7                  108.9\n",
       "3     01007     Bibb County    Alabama        41.3                  114.5\n",
       "4     01009   Blount County    Alabama        40.9                  102.0"
      ]
     },
     "execution_count": 6,
     "metadata": {},
     "output_type": "execute_result"
    }
   ],
   "source": [
    "demographics_df = pd.read_csv(demographics_output_file_path, dtype={\"fips_code\": str})\n",
    "\n",
    "demographics_df.head()"
   ]
  },
  {
   "cell_type": "markdown",
   "metadata": {},
   "source": [
    "### Education\n",
    "\n",
    "**Dataset Link:** https://data.census.gov/table/ACSST5Y2023.S1501?q=county+education&y=2023 \n",
    "\n",
    "**License:** Public Domain\n",
    "\n",
    "**Dataset Name (CSV):** education.csv\n",
    "\n",
    "| Variable Name                | Explanation                                                  | Import Code / Derivation       | CSV  | Final Dataset  |\n",
    "|------------------------------|--------------------------------------------------------------|--------------------------------|------|--------------|\n",
    "| pop25                        | Population aged 25 years or older.                           | S1501_C01_006E                 | [x]  | [ ]          |\n",
    "| pop_25plus_highschool_plus   | Population aged 25 years or older with high school graduate or higher. | S1501_C01_014E      | [x]  | [ ]          |\n",
    "| pop_25plus_bachelor_plus     | Population aged 25 years or older with bachelor's degree or higher.  | S1501_C01_015E      | [x]  | [ ]          |\n",
    "| pct_pop_25plus_highschool_plus | Percentage of population aged 25 years or older with high school graduate or higher. | = pop_25plus_highschool_plus / pop25 | [ ]  | [x]          |\n",
    "| pct_pop_25plus_bachelor_plus | Percentage of population aged 25 years or older with bachelor's degree or higher. | = pop_25plus_bachelor_plus / pop25 | [ ]  | [x]          |\n"
   ]
  },
  {
   "cell_type": "code",
   "execution_count": 7,
   "metadata": {},
   "outputs": [],
   "source": [
    "education_dictionary = {\n",
    "    \"S1501_C01_006E\": \"pop25\",\n",
    "    \"S1501_C01_014E\": \"pop_25plus_highschool_plus\",\n",
    "    \"S1501_C01_015E\": \"pop_25plus_bachelor_plus\"\n",
    "}\n",
    "\n",
    "education_year = \"2023\"\n",
    "\n",
    "education_output_file_name = \"education_county_2023.csv\""
   ]
  },
  {
   "cell_type": "code",
   "execution_count": 8,
   "metadata": {},
   "outputs": [
    {
     "name": "stdout",
     "output_type": "stream",
     "text": [
      "Existing file found, removing...\n",
      "Imported Variables:['pop25', 'pop_25plus_highschool_plus', 'pop_25plus_bachelor_plus']\n",
      "Data saved to data_uscensus\\education_county_2023.csv\n",
      "data_uscensus\\education_county_2023.csv has been modified and saved\n"
     ]
    }
   ],
   "source": [
    "education_output_file_path, education_specific_variables = uscensus_importcsv(education_dictionary, education_year, education_output_file_name)\n",
    "\n",
    "uscensus_modify(education_output_file_path, education_specific_variables)"
   ]
  },
  {
   "cell_type": "code",
   "execution_count": 9,
   "metadata": {},
   "outputs": [
    {
     "data": {
      "text/html": [
       "<div>\n",
       "<style scoped>\n",
       "    .dataframe tbody tr th:only-of-type {\n",
       "        vertical-align: middle;\n",
       "    }\n",
       "\n",
       "    .dataframe tbody tr th {\n",
       "        vertical-align: top;\n",
       "    }\n",
       "\n",
       "    .dataframe thead th {\n",
       "        text-align: right;\n",
       "    }\n",
       "</style>\n",
       "<table border=\"1\" class=\"dataframe\">\n",
       "  <thead>\n",
       "    <tr style=\"text-align: right;\">\n",
       "      <th></th>\n",
       "      <th>fips_code</th>\n",
       "      <th>county_name</th>\n",
       "      <th>state_name</th>\n",
       "      <th>pct_pop_25plus_highschool_plus</th>\n",
       "      <th>pct_pop_25plus_bachelor_plus</th>\n",
       "    </tr>\n",
       "  </thead>\n",
       "  <tbody>\n",
       "    <tr>\n",
       "      <th>0</th>\n",
       "      <td>01001</td>\n",
       "      <td>Autauga County</td>\n",
       "      <td>Alabama</td>\n",
       "      <td>0.902789</td>\n",
       "      <td>0.282827</td>\n",
       "    </tr>\n",
       "    <tr>\n",
       "      <th>1</th>\n",
       "      <td>01003</td>\n",
       "      <td>Baldwin County</td>\n",
       "      <td>Alabama</td>\n",
       "      <td>0.917314</td>\n",
       "      <td>0.327976</td>\n",
       "    </tr>\n",
       "    <tr>\n",
       "      <th>2</th>\n",
       "      <td>01005</td>\n",
       "      <td>Barbour County</td>\n",
       "      <td>Alabama</td>\n",
       "      <td>0.778137</td>\n",
       "      <td>0.114647</td>\n",
       "    </tr>\n",
       "    <tr>\n",
       "      <th>3</th>\n",
       "      <td>01007</td>\n",
       "      <td>Bibb County</td>\n",
       "      <td>Alabama</td>\n",
       "      <td>0.803402</td>\n",
       "      <td>0.114682</td>\n",
       "    </tr>\n",
       "    <tr>\n",
       "      <th>4</th>\n",
       "      <td>01009</td>\n",
       "      <td>Blount County</td>\n",
       "      <td>Alabama</td>\n",
       "      <td>0.826962</td>\n",
       "      <td>0.155790</td>\n",
       "    </tr>\n",
       "  </tbody>\n",
       "</table>\n",
       "</div>"
      ],
      "text/plain": [
       "  fips_code     county_name state_name  pct_pop_25plus_highschool_plus  \\\n",
       "0     01001  Autauga County    Alabama                        0.902789   \n",
       "1     01003  Baldwin County    Alabama                        0.917314   \n",
       "2     01005  Barbour County    Alabama                        0.778137   \n",
       "3     01007     Bibb County    Alabama                        0.803402   \n",
       "4     01009   Blount County    Alabama                        0.826962   \n",
       "\n",
       "   pct_pop_25plus_bachelor_plus  \n",
       "0                      0.282827  \n",
       "1                      0.327976  \n",
       "2                      0.114647  \n",
       "3                      0.114682  \n",
       "4                      0.155790  "
      ]
     },
     "execution_count": 9,
     "metadata": {},
     "output_type": "execute_result"
    }
   ],
   "source": [
    "education_df = pd.read_csv(education_output_file_path, dtype={\"fips_code\": str})\n",
    "\n",
    "education_df[\"pct_pop_25plus_highschool_plus\"] = education_df[\"pop_25plus_highschool_plus\"] / education_df[\"pop25\"]\n",
    "education_df[\"pct_pop_25plus_bachelor_plus\"] = education_df[\"pop_25plus_bachelor_plus\"] / education_df[\"pop25\"]\n",
    "\n",
    "education_df = education_df.drop([\"pop25\", \"pop_25plus_highschool_plus\", \"pop_25plus_bachelor_plus\"], axis=1)\n",
    "\n",
    "education_df.head()"
   ]
  },
  {
   "cell_type": "markdown",
   "metadata": {},
   "source": [
    "### Health Insurance\n",
    "\n",
    "**Dataset Link:** https://data.census.gov/table/ACSST5Y2023.S2701?q=county&y=2023\n",
    "\n",
    "**License:** Public Domain\n",
    "\n",
    "**Dataset Name (CSV):** healthinsurance.csv\n",
    "\n",
    "| Variable Name            | Explanation                                              | Import Code / Derivation | CSV  | Final Dataset |\n",
    "|--------------------------|----------------------------------------------------------|--------------------------|------|--------------|\n",
    "| pct_pop_health_insured  | Percentage of population (non-institutionalized) with health insurance. | S2701_C03_001E | [x]  | [x]          |"
   ]
  },
  {
   "cell_type": "code",
   "execution_count": 10,
   "metadata": {},
   "outputs": [],
   "source": [
    "healthinsurance_dictionary = {\n",
    "    \"S2701_C03_001E\": \"pct_pop_health_insured\"\n",
    "}\n",
    "\n",
    "healthinsurance_year = \"2023\"\n",
    "\n",
    "healthinsurance_output_file_name = \"healthinsurance_county_2023.csv\""
   ]
  },
  {
   "cell_type": "code",
   "execution_count": 11,
   "metadata": {},
   "outputs": [
    {
     "name": "stdout",
     "output_type": "stream",
     "text": [
      "Existing file found, removing...\n",
      "Imported Variables:['pct_pop_health_insured']\n",
      "Data saved to data_uscensus\\healthinsurance_county_2023.csv\n",
      "data_uscensus\\healthinsurance_county_2023.csv has been modified and saved\n"
     ]
    }
   ],
   "source": [
    "\n",
    "healthinsurance_output_file_path, healthinsurance_specific_variables = uscensus_importcsv(healthinsurance_dictionary, healthinsurance_year, healthinsurance_output_file_name)\n",
    "\n",
    "uscensus_modify(healthinsurance_output_file_path, healthinsurance_specific_variables)"
   ]
  },
  {
   "cell_type": "code",
   "execution_count": 12,
   "metadata": {},
   "outputs": [
    {
     "data": {
      "text/html": [
       "<div>\n",
       "<style scoped>\n",
       "    .dataframe tbody tr th:only-of-type {\n",
       "        vertical-align: middle;\n",
       "    }\n",
       "\n",
       "    .dataframe tbody tr th {\n",
       "        vertical-align: top;\n",
       "    }\n",
       "\n",
       "    .dataframe thead th {\n",
       "        text-align: right;\n",
       "    }\n",
       "</style>\n",
       "<table border=\"1\" class=\"dataframe\">\n",
       "  <thead>\n",
       "    <tr style=\"text-align: right;\">\n",
       "      <th></th>\n",
       "      <th>fips_code</th>\n",
       "      <th>county_name</th>\n",
       "      <th>state_name</th>\n",
       "      <th>pct_pop_health_insured</th>\n",
       "    </tr>\n",
       "  </thead>\n",
       "  <tbody>\n",
       "    <tr>\n",
       "      <th>0</th>\n",
       "      <td>01001</td>\n",
       "      <td>Autauga County</td>\n",
       "      <td>Alabama</td>\n",
       "      <td>0.926</td>\n",
       "    </tr>\n",
       "    <tr>\n",
       "      <th>1</th>\n",
       "      <td>01003</td>\n",
       "      <td>Baldwin County</td>\n",
       "      <td>Alabama</td>\n",
       "      <td>0.918</td>\n",
       "    </tr>\n",
       "    <tr>\n",
       "      <th>2</th>\n",
       "      <td>01005</td>\n",
       "      <td>Barbour County</td>\n",
       "      <td>Alabama</td>\n",
       "      <td>0.892</td>\n",
       "    </tr>\n",
       "    <tr>\n",
       "      <th>3</th>\n",
       "      <td>01007</td>\n",
       "      <td>Bibb County</td>\n",
       "      <td>Alabama</td>\n",
       "      <td>0.917</td>\n",
       "    </tr>\n",
       "    <tr>\n",
       "      <th>4</th>\n",
       "      <td>01009</td>\n",
       "      <td>Blount County</td>\n",
       "      <td>Alabama</td>\n",
       "      <td>0.898</td>\n",
       "    </tr>\n",
       "  </tbody>\n",
       "</table>\n",
       "</div>"
      ],
      "text/plain": [
       "  fips_code     county_name state_name  pct_pop_health_insured\n",
       "0     01001  Autauga County    Alabama                   0.926\n",
       "1     01003  Baldwin County    Alabama                   0.918\n",
       "2     01005  Barbour County    Alabama                   0.892\n",
       "3     01007     Bibb County    Alabama                   0.917\n",
       "4     01009   Blount County    Alabama                   0.898"
      ]
     },
     "execution_count": 12,
     "metadata": {},
     "output_type": "execute_result"
    }
   ],
   "source": [
    "healthinsurance_df = pd.read_csv(healthinsurance_output_file_path, dtype={\"fips_code\": str})\n",
    "\n",
    "healthinsurance_df[\"pct_pop_health_insured\"] = healthinsurance_df[\"pct_pop_health_insured\"] / 100\n",
    "\n",
    "healthinsurance_df.head()"
   ]
  },
  {
   "cell_type": "markdown",
   "metadata": {},
   "source": [
    "### Households\n",
    "\n",
    "**Dataset Link:** https://data.census.gov/table/ACSDP5Y2023.DP02?q=county&y=2023\n",
    "\n",
    "**License:** Public Domain\n",
    "\n",
    "**Dataset Name (CSV):** households.csv\n",
    "\n",
    "| Variable Name        | Explanation                                        | Import Code / Derivation | CSV  | Final Dataset |\n",
    "|----------------------|----------------------------------------------------|--------------------------|------|--------------|\n",
    "| households          | Total number of households.                        | DP02_0001E               | [x]  | [x]          |\n",
    "| mean_household_size | Average number of people in a household (household size). | DP02_0016E               | [x]  | [x]          |\n"
   ]
  },
  {
   "cell_type": "code",
   "execution_count": 13,
   "metadata": {},
   "outputs": [],
   "source": [
    "households_dictionary = {\n",
    "    \"DP02_0001E\": \"households\",\n",
    "    \"DP02_0016E\": \"mean_household_size\"\n",
    "}\n",
    "\n",
    "households_year = \"2023\"\n",
    "\n",
    "households_output_file_name = \"households_county_2023.csv\""
   ]
  },
  {
   "cell_type": "code",
   "execution_count": 14,
   "metadata": {},
   "outputs": [
    {
     "name": "stdout",
     "output_type": "stream",
     "text": [
      "Existing file found, removing...\n",
      "Imported Variables:['households', 'mean_household_size']\n",
      "Data saved to data_uscensus\\households_county_2023.csv\n",
      "data_uscensus\\households_county_2023.csv has been modified and saved\n"
     ]
    }
   ],
   "source": [
    "households_output_file_path, households_specific_variables = uscensus_importcsv(households_dictionary, households_year, households_output_file_name)\n",
    "\n",
    "uscensus_modify(households_output_file_path, households_specific_variables)"
   ]
  },
  {
   "cell_type": "code",
   "execution_count": 15,
   "metadata": {},
   "outputs": [
    {
     "data": {
      "text/html": [
       "<div>\n",
       "<style scoped>\n",
       "    .dataframe tbody tr th:only-of-type {\n",
       "        vertical-align: middle;\n",
       "    }\n",
       "\n",
       "    .dataframe tbody tr th {\n",
       "        vertical-align: top;\n",
       "    }\n",
       "\n",
       "    .dataframe thead th {\n",
       "        text-align: right;\n",
       "    }\n",
       "</style>\n",
       "<table border=\"1\" class=\"dataframe\">\n",
       "  <thead>\n",
       "    <tr style=\"text-align: right;\">\n",
       "      <th></th>\n",
       "      <th>fips_code</th>\n",
       "      <th>county_name</th>\n",
       "      <th>state_name</th>\n",
       "      <th>households</th>\n",
       "      <th>mean_household_size</th>\n",
       "    </tr>\n",
       "  </thead>\n",
       "  <tbody>\n",
       "    <tr>\n",
       "      <th>0</th>\n",
       "      <td>01001</td>\n",
       "      <td>Autauga County</td>\n",
       "      <td>Alabama</td>\n",
       "      <td>22523.0</td>\n",
       "      <td>2.61</td>\n",
       "    </tr>\n",
       "    <tr>\n",
       "      <th>1</th>\n",
       "      <td>01003</td>\n",
       "      <td>Baldwin County</td>\n",
       "      <td>Alabama</td>\n",
       "      <td>94642.0</td>\n",
       "      <td>2.50</td>\n",
       "    </tr>\n",
       "    <tr>\n",
       "      <th>2</th>\n",
       "      <td>01005</td>\n",
       "      <td>Barbour County</td>\n",
       "      <td>Alabama</td>\n",
       "      <td>9080.0</td>\n",
       "      <td>2.39</td>\n",
       "    </tr>\n",
       "    <tr>\n",
       "      <th>3</th>\n",
       "      <td>01007</td>\n",
       "      <td>Bibb County</td>\n",
       "      <td>Alabama</td>\n",
       "      <td>7571.0</td>\n",
       "      <td>2.74</td>\n",
       "    </tr>\n",
       "    <tr>\n",
       "      <th>4</th>\n",
       "      <td>01009</td>\n",
       "      <td>Blount County</td>\n",
       "      <td>Alabama</td>\n",
       "      <td>21977.0</td>\n",
       "      <td>2.67</td>\n",
       "    </tr>\n",
       "  </tbody>\n",
       "</table>\n",
       "</div>"
      ],
      "text/plain": [
       "  fips_code     county_name state_name  households  mean_household_size\n",
       "0     01001  Autauga County    Alabama     22523.0                 2.61\n",
       "1     01003  Baldwin County    Alabama     94642.0                 2.50\n",
       "2     01005  Barbour County    Alabama      9080.0                 2.39\n",
       "3     01007     Bibb County    Alabama      7571.0                 2.74\n",
       "4     01009   Blount County    Alabama     21977.0                 2.67"
      ]
     },
     "execution_count": 15,
     "metadata": {},
     "output_type": "execute_result"
    }
   ],
   "source": [
    "households_df = pd.read_csv(households_output_file_path, dtype={\"fips_code\": str})\n",
    "\n",
    "households_df.head()"
   ]
  },
  {
   "cell_type": "markdown",
   "metadata": {},
   "source": [
    "### Housing Cost\n",
    "\n",
    "**Dataset Link:** https://data.census.gov/table/ACSST5Y2023.S2503?q=county&y=2023\n",
    "\n",
    "**License:** Public Domain\n",
    "\n",
    "**Dataset Name (CSV):** housingcost.csv\n",
    "\n",
    "| Variable Name                              | Explanation                                              | Import Code / Derivation | CSV  | Final Dataset |\n",
    "|--------------------------------------------|----------------------------------------------------------|--------------------------|------|--------------|\n",
    "| median_monthly_housing_cost               | Median monthly housing cost for all occupied housing units. | S2503_C01_024E          | [x]  | [x]          |\n",
    "| median_monthly_housing_cost_owner_occupied | Median monthly housing cost for all owner-occupied housing units. | S2503_C03_024E          | [x]  | [x]          |\n",
    "| median_monthly_housing_cost_renter_occupied | Median monthly housing cost for all renter-occupied housing units. | S2503_C05_024E          | [x]  | [x]          |"
   ]
  },
  {
   "cell_type": "code",
   "execution_count": 16,
   "metadata": {},
   "outputs": [],
   "source": [
    "housingcost_dictionary = {\n",
    "    \"S2503_C01_024E\": \"median_monthly_housing_cost\",\n",
    "    \"S2503_C03_024E\": \"median_monthly_housing_cost_owner_occupied\",\n",
    "    \"S2503_C05_024E\": \"median_monthly_housing_cost_renter_occupied\"\n",
    "}\n",
    "\n",
    "housingcost_year = \"2023\"\n",
    "\n",
    "housingcost_output_file_name = \"housingcost_county_2023.csv\""
   ]
  },
  {
   "cell_type": "code",
   "execution_count": 17,
   "metadata": {},
   "outputs": [
    {
     "name": "stdout",
     "output_type": "stream",
     "text": [
      "Existing file found, removing...\n",
      "Imported Variables:['median_monthly_housing_cost', 'median_monthly_housing_cost_owner_occupied', 'median_monthly_housing_cost_renter_occupied']\n",
      "Data saved to data_uscensus\\housingcost_county_2023.csv\n",
      "data_uscensus\\housingcost_county_2023.csv has been modified and saved\n"
     ]
    }
   ],
   "source": [
    "housingcost_output_file_path, housingcost_specific_variables = uscensus_importcsv(housingcost_dictionary, housingcost_year, housingcost_output_file_name)\n",
    "\n",
    "uscensus_modify(housingcost_output_file_path, housingcost_specific_variables)"
   ]
  },
  {
   "cell_type": "code",
   "execution_count": 18,
   "metadata": {},
   "outputs": [
    {
     "data": {
      "text/html": [
       "<div>\n",
       "<style scoped>\n",
       "    .dataframe tbody tr th:only-of-type {\n",
       "        vertical-align: middle;\n",
       "    }\n",
       "\n",
       "    .dataframe tbody tr th {\n",
       "        vertical-align: top;\n",
       "    }\n",
       "\n",
       "    .dataframe thead th {\n",
       "        text-align: right;\n",
       "    }\n",
       "</style>\n",
       "<table border=\"1\" class=\"dataframe\">\n",
       "  <thead>\n",
       "    <tr style=\"text-align: right;\">\n",
       "      <th></th>\n",
       "      <th>fips_code</th>\n",
       "      <th>county_name</th>\n",
       "      <th>state_name</th>\n",
       "      <th>median_monthly_housing_cost</th>\n",
       "      <th>median_monthly_housing_cost_owner_occupied</th>\n",
       "      <th>median_monthly_housing_cost_renter_occupied</th>\n",
       "    </tr>\n",
       "  </thead>\n",
       "  <tbody>\n",
       "    <tr>\n",
       "      <th>0</th>\n",
       "      <td>01001</td>\n",
       "      <td>Autauga County</td>\n",
       "      <td>Alabama</td>\n",
       "      <td>1048</td>\n",
       "      <td>953</td>\n",
       "      <td>1200</td>\n",
       "    </tr>\n",
       "    <tr>\n",
       "      <th>1</th>\n",
       "      <td>01003</td>\n",
       "      <td>Baldwin County</td>\n",
       "      <td>Alabama</td>\n",
       "      <td>1142</td>\n",
       "      <td>1098</td>\n",
       "      <td>1211</td>\n",
       "    </tr>\n",
       "    <tr>\n",
       "      <th>2</th>\n",
       "      <td>01005</td>\n",
       "      <td>Barbour County</td>\n",
       "      <td>Alabama</td>\n",
       "      <td>640</td>\n",
       "      <td>632</td>\n",
       "      <td>644</td>\n",
       "    </tr>\n",
       "    <tr>\n",
       "      <th>3</th>\n",
       "      <td>01007</td>\n",
       "      <td>Bibb County</td>\n",
       "      <td>Alabama</td>\n",
       "      <td>615</td>\n",
       "      <td>566</td>\n",
       "      <td>802</td>\n",
       "    </tr>\n",
       "    <tr>\n",
       "      <th>4</th>\n",
       "      <td>01009</td>\n",
       "      <td>Blount County</td>\n",
       "      <td>Alabama</td>\n",
       "      <td>741</td>\n",
       "      <td>746</td>\n",
       "      <td>743</td>\n",
       "    </tr>\n",
       "  </tbody>\n",
       "</table>\n",
       "</div>"
      ],
      "text/plain": [
       "  fips_code     county_name state_name  median_monthly_housing_cost  \\\n",
       "0     01001  Autauga County    Alabama                         1048   \n",
       "1     01003  Baldwin County    Alabama                         1142   \n",
       "2     01005  Barbour County    Alabama                          640   \n",
       "3     01007     Bibb County    Alabama                          615   \n",
       "4     01009   Blount County    Alabama                          741   \n",
       "\n",
       "   median_monthly_housing_cost_owner_occupied  \\\n",
       "0                                         953   \n",
       "1                                        1098   \n",
       "2                                         632   \n",
       "3                                         566   \n",
       "4                                         746   \n",
       "\n",
       "   median_monthly_housing_cost_renter_occupied  \n",
       "0                                         1200  \n",
       "1                                         1211  \n",
       "2                                          644  \n",
       "3                                          802  \n",
       "4                                          743  "
      ]
     },
     "execution_count": 18,
     "metadata": {},
     "output_type": "execute_result"
    }
   ],
   "source": [
    "housingcost_df = pd.read_csv(housingcost_output_file_path, dtype={\"fips_code\": str})\n",
    "\n",
    "housingcost_df.head()"
   ]
  },
  {
   "cell_type": "markdown",
   "metadata": {},
   "source": [
    "### Housing Type\n",
    "\n",
    "**Dataset Link:** https://data.census.gov/table/ACSST5Y2023.S1101?q=county&y=2023\n",
    "\n",
    "**License:** Public Domain\n",
    "\n",
    "**Dataset Name (CSV):** housingtype.csv\n",
    "\n",
    "| Variable Name                     | Explanation                                        | Import Code / Derivation | CSV  | Final Dataset |\n",
    "|------------------------------------|--------------------------------------------------|--------------------------|------|--------------|\n",
    "| pct_households_owner_occupied     | Percentage of households that own the housing they live in.  | S1101_C01_018E | [x]  | [x]          |\n",
    "| pct_households_renter_occupied    | Percentage of households that rent the housing they live in.  | S1101_C01_019E | [x]  | [x]          |\n"
   ]
  },
  {
   "cell_type": "code",
   "execution_count": 19,
   "metadata": {},
   "outputs": [],
   "source": [
    "housingtype_dictionary = {\n",
    "    \"S1101_C01_018E\": \"pct_households_owner_occupied\",\n",
    "    \"S1101_C01_019E\": \"pct_households_renter_occupied\"\n",
    "}\n",
    "\n",
    "housingtype_year = \"2023\"\n",
    "\n",
    "housingtype_output_file_name = \"housingtype_county_2023.csv\""
   ]
  },
  {
   "cell_type": "code",
   "execution_count": 20,
   "metadata": {},
   "outputs": [
    {
     "name": "stdout",
     "output_type": "stream",
     "text": [
      "Existing file found, removing...\n",
      "Imported Variables:['pct_households_owner_occupied', 'pct_households_renter_occupied']\n",
      "Data saved to data_uscensus\\housingtype_county_2023.csv\n",
      "data_uscensus\\housingtype_county_2023.csv has been modified and saved\n"
     ]
    }
   ],
   "source": [
    "housingtype_output_file_path, housingtype_specific_variables = uscensus_importcsv(housingtype_dictionary, housingtype_year, housingtype_output_file_name)\n",
    "\n",
    "uscensus_modify(housingtype_output_file_path, housingtype_specific_variables)"
   ]
  },
  {
   "cell_type": "code",
   "execution_count": 21,
   "metadata": {},
   "outputs": [
    {
     "data": {
      "text/html": [
       "<div>\n",
       "<style scoped>\n",
       "    .dataframe tbody tr th:only-of-type {\n",
       "        vertical-align: middle;\n",
       "    }\n",
       "\n",
       "    .dataframe tbody tr th {\n",
       "        vertical-align: top;\n",
       "    }\n",
       "\n",
       "    .dataframe thead th {\n",
       "        text-align: right;\n",
       "    }\n",
       "</style>\n",
       "<table border=\"1\" class=\"dataframe\">\n",
       "  <thead>\n",
       "    <tr style=\"text-align: right;\">\n",
       "      <th></th>\n",
       "      <th>fips_code</th>\n",
       "      <th>county_name</th>\n",
       "      <th>state_name</th>\n",
       "      <th>pct_households_owner_occupied</th>\n",
       "      <th>pct_households_renter_occupied</th>\n",
       "    </tr>\n",
       "  </thead>\n",
       "  <tbody>\n",
       "    <tr>\n",
       "      <th>0</th>\n",
       "      <td>01001</td>\n",
       "      <td>Autauga County</td>\n",
       "      <td>Alabama</td>\n",
       "      <td>0.749</td>\n",
       "      <td>0.251</td>\n",
       "    </tr>\n",
       "    <tr>\n",
       "      <th>1</th>\n",
       "      <td>01003</td>\n",
       "      <td>Baldwin County</td>\n",
       "      <td>Alabama</td>\n",
       "      <td>0.775</td>\n",
       "      <td>0.225</td>\n",
       "    </tr>\n",
       "    <tr>\n",
       "      <th>2</th>\n",
       "      <td>01005</td>\n",
       "      <td>Barbour County</td>\n",
       "      <td>Alabama</td>\n",
       "      <td>0.675</td>\n",
       "      <td>0.325</td>\n",
       "    </tr>\n",
       "    <tr>\n",
       "      <th>3</th>\n",
       "      <td>01007</td>\n",
       "      <td>Bibb County</td>\n",
       "      <td>Alabama</td>\n",
       "      <td>0.772</td>\n",
       "      <td>0.228</td>\n",
       "    </tr>\n",
       "    <tr>\n",
       "      <th>4</th>\n",
       "      <td>01009</td>\n",
       "      <td>Blount County</td>\n",
       "      <td>Alabama</td>\n",
       "      <td>0.795</td>\n",
       "      <td>0.205</td>\n",
       "    </tr>\n",
       "  </tbody>\n",
       "</table>\n",
       "</div>"
      ],
      "text/plain": [
       "  fips_code     county_name state_name  pct_households_owner_occupied  \\\n",
       "0     01001  Autauga County    Alabama                          0.749   \n",
       "1     01003  Baldwin County    Alabama                          0.775   \n",
       "2     01005  Barbour County    Alabama                          0.675   \n",
       "3     01007     Bibb County    Alabama                          0.772   \n",
       "4     01009   Blount County    Alabama                          0.795   \n",
       "\n",
       "   pct_households_renter_occupied  \n",
       "0                           0.251  \n",
       "1                           0.225  \n",
       "2                           0.325  \n",
       "3                           0.228  \n",
       "4                           0.205  "
      ]
     },
     "execution_count": 21,
     "metadata": {},
     "output_type": "execute_result"
    }
   ],
   "source": [
    "housingtype_df = pd.read_csv(housingtype_output_file_path, dtype={\"fips_code\": str})\n",
    "\n",
    "housingtype_df[\"pct_households_owner_occupied\"] = housingtype_df[\"pct_households_owner_occupied\"] / 100\n",
    "housingtype_df[\"pct_households_renter_occupied\"] = housingtype_df[\"pct_households_renter_occupied\"] / 100\n",
    "\n",
    "housingtype_df.head()"
   ]
  },
  {
   "cell_type": "markdown",
   "metadata": {},
   "source": [
    "### Industry Composition\n",
    "\n",
    "**Dataset Link:** https://data.census.gov/table/ACSST5Y2023.S2405?q=county&y=2023\n",
    "\n",
    "**License:** Public Domain\n",
    "\n",
    "**Dataset Name (CSV):** industrycomposition.csv\n",
    "\n",
    "| Variable Name                                               | Explanation                                                                 | Import Code / Derivation                     | CSV  | Final Dataset |\n",
    "|------------------------------------------------------------|-----------------------------------------------------------------------------|----------------------------------------------|------|--------------|\n",
    "| employed                                                  | Employed population (aged 16 years or older).                              | S2405_C01_001E                              | [x]  | [ ]          |\n",
    "| employed_agriculture_forestry_fishing_hunting_mining     | Employed population (aged 16 years or older) in agriculture, forestry, fishing, hunting, or mining. | S2405_C01_002E  | [x]  | [ ]          |\n",
    "| employed_construction                                     | Employed population (aged 16 years or older) working in construction.      | S2405_C01_003E                              | [x]  | [ ]          |\n",
    "| employed_manufacturing                                    | Employed population (aged 16 years or older) working in manufacturing.     | S2405_C01_004E                              | [x]  | [ ]          |\n",
    "| employed_wholesale_trade                                  | Employed population (aged 16 years or older) working in wholesale trade.   | S2405_C01_005E                              | [x]  | [ ]          |\n",
    "| employed_retail_trade                                     | Employed population (aged 16 years or older) working in retail trade.      | S2405_C01_006E                              | [x]  | [ ]          |\n",
    "| employed_transportation_warehousing_utilities            | Employed population (aged 16 years or older) in transportation, warehousing, or utilities. | S2405_C01_007E | [x]  | [ ]          |\n",
    "| employed_information                                     | Employed population (aged 16 years or older) working in the information industry. | S2405_C01_008E | [x]  | [ ]          |\n",
    "| employed_finance_insurance_real_estate                   | Employed population (aged 16 years or older) in finance, insurance, or real estate. | S2405_C01_009E | [x]  | [ ]          |\n",
    "| employed_professional_scientific_management_administration | Employed population (aged 16 years or older) in professional, scientific, management, or administrative services. | S2405_C01_010E | [x]  | [ ]          |\n",
    "| employed_education_healthcare_social_assistance          | Employed population (aged 16 years or older) in educational services, health care, or social assistance. | S2405_C01_011E | [x]  | [ ]          |\n",
    "| employed_arts_entertainment_recreation_food_accommodation | Employed population (aged 16 years or older) in arts, entertainment, recreation, accommodation, or food services. | S2405_C01_012E | [x]  | [ ]          |\n",
    "| employed_other_services                                  | Employed population (aged 16 years or older) in other services (excluding public administration). | S2405_C01_013E | [x]  | [ ]          |\n",
    "| employed_public_administration                           | Employed population (aged 16 years or older) in public administration.     | S2405_C01_014E                              | [x]  | [ ]          |\n",
    "| pct_employed_agriculture_forestry_fishing_hunting_mining | Percentage of employed population (aged 16 years or older) in agriculture, forestry, fishing, hunting, or mining. | = employed_agriculture_forestry_fishing_hunting_mining / employed | [ ]  | [x]          |\n",
    "| ...                                                      | ...                                                                         | ...                                          | [ ]  | [ ]          |\n",
    "\n"
   ]
  },
  {
   "cell_type": "code",
   "execution_count": 22,
   "metadata": {},
   "outputs": [],
   "source": [
    "industrycomposition_dictionary = {\n",
    "    \"S2405_C01_001E\": \"employed\",\n",
    "    \"S2405_C01_002E\": \"employed_agriculture_forestry_fishing_hunting_mining\",\n",
    "    \"S2405_C01_003E\": \"employed_construction\",\n",
    "    \"S2405_C01_004E\": \"employed_manufacturing\",\n",
    "    \"S2405_C01_005E\": \"employed_wholesale_trade\",\n",
    "    \"S2405_C01_006E\": \"employed_retail_trade\",\n",
    "    \"S2405_C01_007E\": \"employed_transportation_warehousing_utilities\",\n",
    "    \"S2405_C01_008E\": \"employed_information\",\n",
    "    \"S2405_C01_009E\": \"employed_finance_insurance_real_estate\",\n",
    "    \"S2405_C01_010E\": \"employed_professional_scientific_management_administration\",\n",
    "    \"S2405_C01_011E\": \"employed_education_healthcare_social_assistance\",\n",
    "    \"S2405_C01_012E\": \"employed_arts_entertainment_recreation_food_accommodation\",\n",
    "    \"S2405_C01_013E\": \"employed_other_services\",\n",
    "    \"S2405_C01_014E\": \"employed_public_administration\"\n",
    "}\n",
    "\n",
    "industrycomposition_year = \"2023\"\n",
    "\n",
    "industrycomposition_output_file_name = \"industrycomposition_county_2023.csv\""
   ]
  },
  {
   "cell_type": "code",
   "execution_count": 23,
   "metadata": {},
   "outputs": [
    {
     "name": "stdout",
     "output_type": "stream",
     "text": [
      "Existing file found, removing...\n",
      "Imported Variables:['employed', 'employed_agriculture_forestry_fishing_hunting_mining', 'employed_construction', 'employed_manufacturing', 'employed_wholesale_trade', 'employed_retail_trade', 'employed_transportation_warehousing_utilities', 'employed_information', 'employed_finance_insurance_real_estate', 'employed_professional_scientific_management_administration', 'employed_education_healthcare_social_assistance', 'employed_arts_entertainment_recreation_food_accommodation', 'employed_other_services', 'employed_public_administration']\n",
      "Data saved to data_uscensus\\industrycomposition_county_2023.csv\n",
      "data_uscensus\\industrycomposition_county_2023.csv has been modified and saved\n"
     ]
    }
   ],
   "source": [
    "industrycomposition_output_file_path, industrycomposition_specific_variables = uscensus_importcsv(industrycomposition_dictionary, industrycomposition_year, industrycomposition_output_file_name)\n",
    "\n",
    "uscensus_modify(industrycomposition_output_file_path, industrycomposition_specific_variables)"
   ]
  },
  {
   "cell_type": "code",
   "execution_count": 24,
   "metadata": {},
   "outputs": [
    {
     "data": {
      "text/html": [
       "<div>\n",
       "<style scoped>\n",
       "    .dataframe tbody tr th:only-of-type {\n",
       "        vertical-align: middle;\n",
       "    }\n",
       "\n",
       "    .dataframe tbody tr th {\n",
       "        vertical-align: top;\n",
       "    }\n",
       "\n",
       "    .dataframe thead th {\n",
       "        text-align: right;\n",
       "    }\n",
       "</style>\n",
       "<table border=\"1\" class=\"dataframe\">\n",
       "  <thead>\n",
       "    <tr style=\"text-align: right;\">\n",
       "      <th></th>\n",
       "      <th>fips_code</th>\n",
       "      <th>county_name</th>\n",
       "      <th>state_name</th>\n",
       "      <th>pct_employed_agriculture_forestry_fishing_hunting_mining</th>\n",
       "      <th>pct_employed_construction</th>\n",
       "      <th>pct_employed_manufacturing</th>\n",
       "      <th>pct_employed_wholesale_trade</th>\n",
       "      <th>pct_employed_retail_trade</th>\n",
       "      <th>pct_employed_transportation_warehousing_utilities</th>\n",
       "      <th>pct_employed_information</th>\n",
       "      <th>pct_employed_finance_insurance_real_estate</th>\n",
       "      <th>pct_employed_professional_scientific_management_administration</th>\n",
       "      <th>pct_employed_education_healthcare_social_assistance</th>\n",
       "      <th>pct_employed_arts_entertainment_recreation_food_accommodation</th>\n",
       "      <th>pct_employed_other_services</th>\n",
       "      <th>pct_employed_public_administration</th>\n",
       "    </tr>\n",
       "  </thead>\n",
       "  <tbody>\n",
       "    <tr>\n",
       "      <th>0</th>\n",
       "      <td>01001</td>\n",
       "      <td>Autauga County</td>\n",
       "      <td>Alabama</td>\n",
       "      <td>0.009855</td>\n",
       "      <td>0.072360</td>\n",
       "      <td>0.116974</td>\n",
       "      <td>0.029262</td>\n",
       "      <td>0.121901</td>\n",
       "      <td>0.056667</td>\n",
       "      <td>0.012925</td>\n",
       "      <td>0.057994</td>\n",
       "      <td>0.090630</td>\n",
       "      <td>0.189826</td>\n",
       "      <td>0.101395</td>\n",
       "      <td>0.036881</td>\n",
       "      <td>0.103328</td>\n",
       "    </tr>\n",
       "    <tr>\n",
       "      <th>1</th>\n",
       "      <td>01003</td>\n",
       "      <td>Baldwin County</td>\n",
       "      <td>Alabama</td>\n",
       "      <td>0.017352</td>\n",
       "      <td>0.081940</td>\n",
       "      <td>0.098151</td>\n",
       "      <td>0.019807</td>\n",
       "      <td>0.146172</td>\n",
       "      <td>0.049500</td>\n",
       "      <td>0.008872</td>\n",
       "      <td>0.071352</td>\n",
       "      <td>0.118277</td>\n",
       "      <td>0.192532</td>\n",
       "      <td>0.101072</td>\n",
       "      <td>0.049418</td>\n",
       "      <td>0.045557</td>\n",
       "    </tr>\n",
       "    <tr>\n",
       "      <th>2</th>\n",
       "      <td>01005</td>\n",
       "      <td>Barbour County</td>\n",
       "      <td>Alabama</td>\n",
       "      <td>0.041608</td>\n",
       "      <td>0.052945</td>\n",
       "      <td>0.227209</td>\n",
       "      <td>0.005844</td>\n",
       "      <td>0.099696</td>\n",
       "      <td>0.068373</td>\n",
       "      <td>0.005376</td>\n",
       "      <td>0.035414</td>\n",
       "      <td>0.052127</td>\n",
       "      <td>0.213768</td>\n",
       "      <td>0.086138</td>\n",
       "      <td>0.029687</td>\n",
       "      <td>0.081814</td>\n",
       "    </tr>\n",
       "    <tr>\n",
       "      <th>3</th>\n",
       "      <td>01007</td>\n",
       "      <td>Bibb County</td>\n",
       "      <td>Alabama</td>\n",
       "      <td>0.026662</td>\n",
       "      <td>0.101552</td>\n",
       "      <td>0.163408</td>\n",
       "      <td>0.029032</td>\n",
       "      <td>0.134969</td>\n",
       "      <td>0.057353</td>\n",
       "      <td>0.008413</td>\n",
       "      <td>0.058656</td>\n",
       "      <td>0.083185</td>\n",
       "      <td>0.200735</td>\n",
       "      <td>0.034246</td>\n",
       "      <td>0.054746</td>\n",
       "      <td>0.047043</td>\n",
       "    </tr>\n",
       "    <tr>\n",
       "      <th>4</th>\n",
       "      <td>01009</td>\n",
       "      <td>Blount County</td>\n",
       "      <td>Alabama</td>\n",
       "      <td>0.022232</td>\n",
       "      <td>0.093420</td>\n",
       "      <td>0.163515</td>\n",
       "      <td>0.032976</td>\n",
       "      <td>0.132258</td>\n",
       "      <td>0.077440</td>\n",
       "      <td>0.009416</td>\n",
       "      <td>0.047902</td>\n",
       "      <td>0.078026</td>\n",
       "      <td>0.195515</td>\n",
       "      <td>0.059115</td>\n",
       "      <td>0.052669</td>\n",
       "      <td>0.035516</td>\n",
       "    </tr>\n",
       "  </tbody>\n",
       "</table>\n",
       "</div>"
      ],
      "text/plain": [
       "  fips_code     county_name state_name  \\\n",
       "0     01001  Autauga County    Alabama   \n",
       "1     01003  Baldwin County    Alabama   \n",
       "2     01005  Barbour County    Alabama   \n",
       "3     01007     Bibb County    Alabama   \n",
       "4     01009   Blount County    Alabama   \n",
       "\n",
       "   pct_employed_agriculture_forestry_fishing_hunting_mining  \\\n",
       "0                                           0.009855          \n",
       "1                                           0.017352          \n",
       "2                                           0.041608          \n",
       "3                                           0.026662          \n",
       "4                                           0.022232          \n",
       "\n",
       "   pct_employed_construction  pct_employed_manufacturing  \\\n",
       "0                   0.072360                    0.116974   \n",
       "1                   0.081940                    0.098151   \n",
       "2                   0.052945                    0.227209   \n",
       "3                   0.101552                    0.163408   \n",
       "4                   0.093420                    0.163515   \n",
       "\n",
       "   pct_employed_wholesale_trade  pct_employed_retail_trade  \\\n",
       "0                      0.029262                   0.121901   \n",
       "1                      0.019807                   0.146172   \n",
       "2                      0.005844                   0.099696   \n",
       "3                      0.029032                   0.134969   \n",
       "4                      0.032976                   0.132258   \n",
       "\n",
       "   pct_employed_transportation_warehousing_utilities  \\\n",
       "0                                           0.056667   \n",
       "1                                           0.049500   \n",
       "2                                           0.068373   \n",
       "3                                           0.057353   \n",
       "4                                           0.077440   \n",
       "\n",
       "   pct_employed_information  pct_employed_finance_insurance_real_estate  \\\n",
       "0                  0.012925                                    0.057994   \n",
       "1                  0.008872                                    0.071352   \n",
       "2                  0.005376                                    0.035414   \n",
       "3                  0.008413                                    0.058656   \n",
       "4                  0.009416                                    0.047902   \n",
       "\n",
       "   pct_employed_professional_scientific_management_administration  \\\n",
       "0                                           0.090630                \n",
       "1                                           0.118277                \n",
       "2                                           0.052127                \n",
       "3                                           0.083185                \n",
       "4                                           0.078026                \n",
       "\n",
       "   pct_employed_education_healthcare_social_assistance  \\\n",
       "0                                           0.189826     \n",
       "1                                           0.192532     \n",
       "2                                           0.213768     \n",
       "3                                           0.200735     \n",
       "4                                           0.195515     \n",
       "\n",
       "   pct_employed_arts_entertainment_recreation_food_accommodation  \\\n",
       "0                                           0.101395               \n",
       "1                                           0.101072               \n",
       "2                                           0.086138               \n",
       "3                                           0.034246               \n",
       "4                                           0.059115               \n",
       "\n",
       "   pct_employed_other_services  pct_employed_public_administration  \n",
       "0                     0.036881                            0.103328  \n",
       "1                     0.049418                            0.045557  \n",
       "2                     0.029687                            0.081814  \n",
       "3                     0.054746                            0.047043  \n",
       "4                     0.052669                            0.035516  "
      ]
     },
     "execution_count": 24,
     "metadata": {},
     "output_type": "execute_result"
    }
   ],
   "source": [
    "industrycomposition_df = pd.read_csv(industrycomposition_output_file_path, dtype={\"fips_code\": str})\n",
    "\n",
    "industrycomposition_df[\"pct_employed_agriculture_forestry_fishing_hunting_mining\"] = industrycomposition_df[\"employed_agriculture_forestry_fishing_hunting_mining\"] / industrycomposition_df[\"employed\"]\n",
    "industrycomposition_df[\"pct_employed_construction\"] = industrycomposition_df[\"employed_construction\"] / industrycomposition_df[\"employed\"]\n",
    "industrycomposition_df[\"pct_employed_manufacturing\"] = industrycomposition_df[\"employed_manufacturing\"] / industrycomposition_df[\"employed\"]\n",
    "industrycomposition_df[\"pct_employed_wholesale_trade\"] = industrycomposition_df[\"employed_wholesale_trade\"] / industrycomposition_df[\"employed\"]\n",
    "industrycomposition_df[\"pct_employed_retail_trade\"] = industrycomposition_df[\"employed_retail_trade\"] / industrycomposition_df[\"employed\"]\n",
    "industrycomposition_df[\"pct_employed_transportation_warehousing_utilities\"] = industrycomposition_df[\"employed_transportation_warehousing_utilities\"] / industrycomposition_df[\"employed\"]\n",
    "industrycomposition_df[\"pct_employed_information\"] = industrycomposition_df[\"employed_information\"] / industrycomposition_df[\"employed\"]\n",
    "industrycomposition_df[\"pct_employed_finance_insurance_real_estate\"] = industrycomposition_df[\"employed_finance_insurance_real_estate\"] / industrycomposition_df[\"employed\"]\n",
    "industrycomposition_df[\"pct_employed_professional_scientific_management_administration\"] = industrycomposition_df[\"employed_professional_scientific_management_administration\"] / industrycomposition_df[\"employed\"]\n",
    "industrycomposition_df[\"pct_employed_education_healthcare_social_assistance\"] = industrycomposition_df[\"employed_education_healthcare_social_assistance\"] / industrycomposition_df[\"employed\"]\n",
    "industrycomposition_df[\"pct_employed_arts_entertainment_recreation_food_accommodation\"] = industrycomposition_df[\"employed_arts_entertainment_recreation_food_accommodation\"] / industrycomposition_df[\"employed\"]\n",
    "industrycomposition_df[\"pct_employed_other_services\"] = industrycomposition_df[\"employed_other_services\"] / industrycomposition_df[\"employed\"]\n",
    "industrycomposition_df[\"pct_employed_public_administration\"] = industrycomposition_df[\"employed_public_administration\"] / industrycomposition_df[\"employed\"]\n",
    "\n",
    "\n",
    "industrycomposition_df = industrycomposition_df.drop([\n",
    "        \"employed\",\n",
    "        \"employed_agriculture_forestry_fishing_hunting_mining\",\n",
    "        \"employed_construction\",\n",
    "        \"employed_manufacturing\",\n",
    "        \"employed_wholesale_trade\",\n",
    "        \"employed_retail_trade\",\n",
    "        \"employed_transportation_warehousing_utilities\",\n",
    "        \"employed_information\",\n",
    "        \"employed_finance_insurance_real_estate\",\n",
    "        \"employed_professional_scientific_management_administration\",\n",
    "        \"employed_education_healthcare_social_assistance\",\n",
    "        \"employed_arts_entertainment_recreation_food_accommodation\",\n",
    "        \"employed_other_services\",\n",
    "        \"employed_public_administration\"\n",
    "    ], axis=1)\n",
    "\n",
    "industrycomposition_df.head()"
   ]
  },
  {
   "cell_type": "markdown",
   "metadata": {},
   "source": [
    "### Internet Access\n",
    "\n",
    "**Dataset Link:** https://data.census.gov/table/ACSDT5Y2023.B28011?q=county\n",
    "\n",
    "**License:** Public Domain\n",
    "\n",
    "**Dataset Name (CSV):** internetaccess.csv\n",
    "\n",
    "| Variable Name                 | Explanation                                         | Import Code / Derivation       | CSV  | Final Dataset  |\n",
    "|--------------------------------|-----------------------------------------------------|--------------------------------|------|--------------|\n",
    "| households                     | Total number of households.                        | B28011_001E                   | [x]  | [ ]          |\n",
    "| households_with_internet        | Number of households with an internet subscription. | B28011_002E                   | [x]  | [ ]          |\n",
    "| pct_households_with_internet    | Percentage of households with an internet subscription. | = households_with_internet / households | [ ]  | [x]          |\n"
   ]
  },
  {
   "cell_type": "code",
   "execution_count": 25,
   "metadata": {},
   "outputs": [],
   "source": [
    "internetaccess_dictionary = {\n",
    "    \"B28011_001E\": \"households\",\n",
    "    \"B28011_002E\": \"households_with_internet\"\n",
    "}\n",
    "\n",
    "internetaccess_year = \"2023\"\n",
    "\n",
    "internetaccess_output_file_name = \"internetaccess_county_2023.csv\""
   ]
  },
  {
   "cell_type": "code",
   "execution_count": 26,
   "metadata": {},
   "outputs": [
    {
     "name": "stdout",
     "output_type": "stream",
     "text": [
      "Existing file found, removing...\n",
      "Imported Variables:['households', 'households_with_internet']\n",
      "Data saved to data_uscensus\\internetaccess_county_2023.csv\n",
      "data_uscensus\\internetaccess_county_2023.csv has been modified and saved\n"
     ]
    }
   ],
   "source": [
    "internetaccess_output_file_path, internetaccess_specific_variables = uscensus_importcsv(internetaccess_dictionary, internetaccess_year, internetaccess_output_file_name)\n",
    "\n",
    "uscensus_modify(internetaccess_output_file_path, internetaccess_specific_variables)"
   ]
  },
  {
   "cell_type": "code",
   "execution_count": 27,
   "metadata": {},
   "outputs": [
    {
     "data": {
      "text/html": [
       "<div>\n",
       "<style scoped>\n",
       "    .dataframe tbody tr th:only-of-type {\n",
       "        vertical-align: middle;\n",
       "    }\n",
       "\n",
       "    .dataframe tbody tr th {\n",
       "        vertical-align: top;\n",
       "    }\n",
       "\n",
       "    .dataframe thead th {\n",
       "        text-align: right;\n",
       "    }\n",
       "</style>\n",
       "<table border=\"1\" class=\"dataframe\">\n",
       "  <thead>\n",
       "    <tr style=\"text-align: right;\">\n",
       "      <th></th>\n",
       "      <th>fips_code</th>\n",
       "      <th>county_name</th>\n",
       "      <th>state_name</th>\n",
       "      <th>pct_households_with_internet</th>\n",
       "    </tr>\n",
       "  </thead>\n",
       "  <tbody>\n",
       "    <tr>\n",
       "      <th>0</th>\n",
       "      <td>01001</td>\n",
       "      <td>Autauga County</td>\n",
       "      <td>Alabama</td>\n",
       "      <td>0.909470</td>\n",
       "    </tr>\n",
       "    <tr>\n",
       "      <th>1</th>\n",
       "      <td>01003</td>\n",
       "      <td>Baldwin County</td>\n",
       "      <td>Alabama</td>\n",
       "      <td>0.898988</td>\n",
       "    </tr>\n",
       "    <tr>\n",
       "      <th>2</th>\n",
       "      <td>01005</td>\n",
       "      <td>Barbour County</td>\n",
       "      <td>Alabama</td>\n",
       "      <td>0.723018</td>\n",
       "    </tr>\n",
       "    <tr>\n",
       "      <th>3</th>\n",
       "      <td>01007</td>\n",
       "      <td>Bibb County</td>\n",
       "      <td>Alabama</td>\n",
       "      <td>0.813631</td>\n",
       "    </tr>\n",
       "    <tr>\n",
       "      <th>4</th>\n",
       "      <td>01009</td>\n",
       "      <td>Blount County</td>\n",
       "      <td>Alabama</td>\n",
       "      <td>0.844110</td>\n",
       "    </tr>\n",
       "  </tbody>\n",
       "</table>\n",
       "</div>"
      ],
      "text/plain": [
       "  fips_code     county_name state_name  pct_households_with_internet\n",
       "0     01001  Autauga County    Alabama                      0.909470\n",
       "1     01003  Baldwin County    Alabama                      0.898988\n",
       "2     01005  Barbour County    Alabama                      0.723018\n",
       "3     01007     Bibb County    Alabama                      0.813631\n",
       "4     01009   Blount County    Alabama                      0.844110"
      ]
     },
     "execution_count": 27,
     "metadata": {},
     "output_type": "execute_result"
    }
   ],
   "source": [
    "internetaccess_df = pd.read_csv(internetaccess_output_file_path, dtype={\"fips_code\": str})\n",
    "\n",
    "internetaccess_df[\"pct_households_with_internet\"] = internetaccess_df[\"households_with_internet\"] / internetaccess_df[\"households\"]\n",
    "\n",
    "internetaccess_df = internetaccess_df.drop([\n",
    "        \"households\",\n",
    "        \"households_with_internet\"\n",
    "    ], axis=1)\n",
    "\n",
    "internetaccess_df.head()"
   ]
  },
  {
   "cell_type": "markdown",
   "metadata": {},
   "source": [
    "### Labor Force Participation Rate\n",
    "\n",
    "**Dataset Link:** https://data.census.gov/table/ACSST5Y2023.S2301?q=county&y=2023\n",
    "\n",
    "**License:** Public Domain\n",
    "\n",
    "**Dataset Name (CSV):** laborforceparticipation.csv\n",
    "\n",
    "| Variable Name                      | Explanation                                                       | Import Code / Derivation | CSV  | Final Dataset |\n",
    "|-------------------------------------|-------------------------------------------------------------------|--------------------------|------|--------------|\n",
    "| labor_force_participation_rate      | Labor force participation rate (=total labor force / total working-age population). | S2301_C02_001E | [x]  | [x]          |\n"
   ]
  },
  {
   "cell_type": "code",
   "execution_count": 28,
   "metadata": {},
   "outputs": [],
   "source": [
    "laborforceparticipation_dictionary = {\n",
    "    \"S2301_C02_001E\": \"labor_force_participation_rate\"\n",
    "}\n",
    "\n",
    "laborforceparticipation_year = \"2023\"\n",
    "\n",
    "laborforceparticipation_output_file_name = \"laborforceparticipation_county_2023.csv\""
   ]
  },
  {
   "cell_type": "code",
   "execution_count": 29,
   "metadata": {},
   "outputs": [
    {
     "name": "stdout",
     "output_type": "stream",
     "text": [
      "Existing file found, removing...\n",
      "Imported Variables:['labor_force_participation_rate']\n",
      "Data saved to data_uscensus\\laborforceparticipation_county_2023.csv\n",
      "data_uscensus\\laborforceparticipation_county_2023.csv has been modified and saved\n"
     ]
    }
   ],
   "source": [
    "laborforceparticipation_output_file_path, laborforceparticipation_specific_variables = uscensus_importcsv(laborforceparticipation_dictionary, laborforceparticipation_year, laborforceparticipation_output_file_name)\n",
    "\n",
    "uscensus_modify(laborforceparticipation_output_file_path, laborforceparticipation_specific_variables)"
   ]
  },
  {
   "cell_type": "code",
   "execution_count": 30,
   "metadata": {},
   "outputs": [
    {
     "data": {
      "text/html": [
       "<div>\n",
       "<style scoped>\n",
       "    .dataframe tbody tr th:only-of-type {\n",
       "        vertical-align: middle;\n",
       "    }\n",
       "\n",
       "    .dataframe tbody tr th {\n",
       "        vertical-align: top;\n",
       "    }\n",
       "\n",
       "    .dataframe thead th {\n",
       "        text-align: right;\n",
       "    }\n",
       "</style>\n",
       "<table border=\"1\" class=\"dataframe\">\n",
       "  <thead>\n",
       "    <tr style=\"text-align: right;\">\n",
       "      <th></th>\n",
       "      <th>fips_code</th>\n",
       "      <th>county_name</th>\n",
       "      <th>state_name</th>\n",
       "      <th>labor_force_participation_rate</th>\n",
       "    </tr>\n",
       "  </thead>\n",
       "  <tbody>\n",
       "    <tr>\n",
       "      <th>0</th>\n",
       "      <td>01001</td>\n",
       "      <td>Autauga County</td>\n",
       "      <td>Alabama</td>\n",
       "      <td>0.590</td>\n",
       "    </tr>\n",
       "    <tr>\n",
       "      <th>1</th>\n",
       "      <td>01003</td>\n",
       "      <td>Baldwin County</td>\n",
       "      <td>Alabama</td>\n",
       "      <td>0.583</td>\n",
       "    </tr>\n",
       "    <tr>\n",
       "      <th>2</th>\n",
       "      <td>01005</td>\n",
       "      <td>Barbour County</td>\n",
       "      <td>Alabama</td>\n",
       "      <td>0.449</td>\n",
       "    </tr>\n",
       "    <tr>\n",
       "      <th>3</th>\n",
       "      <td>01007</td>\n",
       "      <td>Bibb County</td>\n",
       "      <td>Alabama</td>\n",
       "      <td>0.516</td>\n",
       "    </tr>\n",
       "    <tr>\n",
       "      <th>4</th>\n",
       "      <td>01009</td>\n",
       "      <td>Blount County</td>\n",
       "      <td>Alabama</td>\n",
       "      <td>0.574</td>\n",
       "    </tr>\n",
       "  </tbody>\n",
       "</table>\n",
       "</div>"
      ],
      "text/plain": [
       "  fips_code     county_name state_name  labor_force_participation_rate\n",
       "0     01001  Autauga County    Alabama                           0.590\n",
       "1     01003  Baldwin County    Alabama                           0.583\n",
       "2     01005  Barbour County    Alabama                           0.449\n",
       "3     01007     Bibb County    Alabama                           0.516\n",
       "4     01009   Blount County    Alabama                           0.574"
      ]
     },
     "execution_count": 30,
     "metadata": {},
     "output_type": "execute_result"
    }
   ],
   "source": [
    "laborforceparticipation_df = pd.read_csv(laborforceparticipation_output_file_path, dtype={\"fips_code\": str})\n",
    "\n",
    "laborforceparticipation_df[\"labor_force_participation_rate\"] = laborforceparticipation_df[\"labor_force_participation_rate\"] / 100\n",
    "\n",
    "laborforceparticipation_df.head()"
   ]
  },
  {
   "cell_type": "markdown",
   "metadata": {},
   "source": [
    "### Limited English Speaking\n",
    "\n",
    "**Dataset Link:** https://data.census.gov/table/ACSST5Y2023.S1602?q=county&y=2023\n",
    "\n",
    "**License:** Public Domain\n",
    "\n",
    "**Dataset Name (CSV):** limitedenglish.csv\n",
    "\n",
    "| Variable Name                            | Explanation                                                                                              | Import Code / Derivation | CSV  | Final Dataset |\n",
    "|------------------------------------------|----------------------------------------------------------------------------------------------------------|--------------------------|------|--------------|\n",
    "| pct_households_limited_english_proficiency | Percentage of the population (aged 5 years and over) who speak a language other than English at home and speak English less than \"very well.\" | S1602_C04_001E | [x]  | [x]          |\n"
   ]
  },
  {
   "cell_type": "code",
   "execution_count": 31,
   "metadata": {},
   "outputs": [],
   "source": [
    "limitedenglish_dictionary = {\n",
    "    \"S1602_C04_001E\": \"pct_households_limited_english_proficiency\"\n",
    "}\n",
    "\n",
    "limitedenglish_year = \"2023\"\n",
    "\n",
    "limitedenglish_output_file_name = \"limitedenglish_county_2023.csv\""
   ]
  },
  {
   "cell_type": "code",
   "execution_count": 32,
   "metadata": {},
   "outputs": [
    {
     "name": "stdout",
     "output_type": "stream",
     "text": [
      "Existing file found, removing...\n",
      "Imported Variables:['pct_households_limited_english_proficiency']\n",
      "Data saved to data_uscensus\\limitedenglish_county_2023.csv\n",
      "data_uscensus\\limitedenglish_county_2023.csv has been modified and saved\n"
     ]
    }
   ],
   "source": [
    "\n",
    "limitedenglish_output_file_path, limitedenglish_specific_variables = uscensus_importcsv(limitedenglish_dictionary, limitedenglish_year, limitedenglish_output_file_name)\n",
    "uscensus_modify(limitedenglish_output_file_path, limitedenglish_specific_variables)"
   ]
  },
  {
   "cell_type": "code",
   "execution_count": 33,
   "metadata": {},
   "outputs": [
    {
     "data": {
      "text/html": [
       "<div>\n",
       "<style scoped>\n",
       "    .dataframe tbody tr th:only-of-type {\n",
       "        vertical-align: middle;\n",
       "    }\n",
       "\n",
       "    .dataframe tbody tr th {\n",
       "        vertical-align: top;\n",
       "    }\n",
       "\n",
       "    .dataframe thead th {\n",
       "        text-align: right;\n",
       "    }\n",
       "</style>\n",
       "<table border=\"1\" class=\"dataframe\">\n",
       "  <thead>\n",
       "    <tr style=\"text-align: right;\">\n",
       "      <th></th>\n",
       "      <th>fips_code</th>\n",
       "      <th>county_name</th>\n",
       "      <th>state_name</th>\n",
       "      <th>pct_households_limited_english_proficiency</th>\n",
       "    </tr>\n",
       "  </thead>\n",
       "  <tbody>\n",
       "    <tr>\n",
       "      <th>0</th>\n",
       "      <td>01001</td>\n",
       "      <td>Autauga County</td>\n",
       "      <td>Alabama</td>\n",
       "      <td>0.005</td>\n",
       "    </tr>\n",
       "    <tr>\n",
       "      <th>1</th>\n",
       "      <td>01003</td>\n",
       "      <td>Baldwin County</td>\n",
       "      <td>Alabama</td>\n",
       "      <td>0.008</td>\n",
       "    </tr>\n",
       "    <tr>\n",
       "      <th>2</th>\n",
       "      <td>01005</td>\n",
       "      <td>Barbour County</td>\n",
       "      <td>Alabama</td>\n",
       "      <td>0.025</td>\n",
       "    </tr>\n",
       "    <tr>\n",
       "      <th>3</th>\n",
       "      <td>01007</td>\n",
       "      <td>Bibb County</td>\n",
       "      <td>Alabama</td>\n",
       "      <td>0.007</td>\n",
       "    </tr>\n",
       "    <tr>\n",
       "      <th>4</th>\n",
       "      <td>01009</td>\n",
       "      <td>Blount County</td>\n",
       "      <td>Alabama</td>\n",
       "      <td>0.018</td>\n",
       "    </tr>\n",
       "  </tbody>\n",
       "</table>\n",
       "</div>"
      ],
      "text/plain": [
       "  fips_code     county_name state_name  \\\n",
       "0     01001  Autauga County    Alabama   \n",
       "1     01003  Baldwin County    Alabama   \n",
       "2     01005  Barbour County    Alabama   \n",
       "3     01007     Bibb County    Alabama   \n",
       "4     01009   Blount County    Alabama   \n",
       "\n",
       "   pct_households_limited_english_proficiency  \n",
       "0                                       0.005  \n",
       "1                                       0.008  \n",
       "2                                       0.025  \n",
       "3                                       0.007  \n",
       "4                                       0.018  "
      ]
     },
     "execution_count": 33,
     "metadata": {},
     "output_type": "execute_result"
    }
   ],
   "source": [
    "limitedenglish_df = pd.read_csv(limitedenglish_output_file_path, dtype={\"fips_code\": str})\n",
    "\n",
    "limitedenglish_df[\"pct_households_limited_english_proficiency\"] = limitedenglish_df[\"pct_households_limited_english_proficiency\"] / 100\n",
    "\n",
    "limitedenglish_df.head()"
   ]
  },
  {
   "cell_type": "markdown",
   "metadata": {},
   "source": [
    "### Mean Household Income\n",
    "\n",
    "**Dataset Link:** https://data.census.gov/table/ACSST5Y2023.S1901?q=county&y=2023\n",
    "\n",
    "**License:** Public Domain\n",
    "\n",
    "**Dataset Name (CSV):** meanincome.csv\n",
    "\n",
    "| Variable Name           | Explanation                                                                 | Import Code / Derivation | CSV  | Final Dataset |\n",
    "|-------------------------|---------------------------------------------------------------------------|--------------------------|------|--------------|\n",
    "| mean_household_income  | Mean household income in the past 12 months (in 2023 Inflation-Adjusted Dollars). | S1901_C01_013E | [x]  | [x]          |\n"
   ]
  },
  {
   "cell_type": "code",
   "execution_count": 34,
   "metadata": {},
   "outputs": [],
   "source": [
    "meanincome_dictionary = {\n",
    "    \"S1901_C01_013E\": \"mean_household_income\"\n",
    "}\n",
    "\n",
    "meanincome_year = \"2023\"\n",
    "\n",
    "meanincome_output_file_name = \"meanincome_county_2023.csv\""
   ]
  },
  {
   "cell_type": "code",
   "execution_count": 35,
   "metadata": {},
   "outputs": [
    {
     "name": "stdout",
     "output_type": "stream",
     "text": [
      "Existing file found, removing...\n",
      "Imported Variables:['mean_household_income']\n",
      "Data saved to data_uscensus\\meanincome_county_2023.csv\n",
      "data_uscensus\\meanincome_county_2023.csv has been modified and saved\n"
     ]
    }
   ],
   "source": [
    "meanincome_output_file_path, meanincome_specific_variables = uscensus_importcsv(meanincome_dictionary, meanincome_year, meanincome_output_file_name)\n",
    "\n",
    "uscensus_modify(meanincome_output_file_path, meanincome_specific_variables)"
   ]
  },
  {
   "cell_type": "code",
   "execution_count": 36,
   "metadata": {},
   "outputs": [
    {
     "data": {
      "text/html": [
       "<div>\n",
       "<style scoped>\n",
       "    .dataframe tbody tr th:only-of-type {\n",
       "        vertical-align: middle;\n",
       "    }\n",
       "\n",
       "    .dataframe tbody tr th {\n",
       "        vertical-align: top;\n",
       "    }\n",
       "\n",
       "    .dataframe thead th {\n",
       "        text-align: right;\n",
       "    }\n",
       "</style>\n",
       "<table border=\"1\" class=\"dataframe\">\n",
       "  <thead>\n",
       "    <tr style=\"text-align: right;\">\n",
       "      <th></th>\n",
       "      <th>fips_code</th>\n",
       "      <th>county_name</th>\n",
       "      <th>state_name</th>\n",
       "      <th>mean_household_income</th>\n",
       "    </tr>\n",
       "  </thead>\n",
       "  <tbody>\n",
       "    <tr>\n",
       "      <th>0</th>\n",
       "      <td>01001</td>\n",
       "      <td>Autauga County</td>\n",
       "      <td>Alabama</td>\n",
       "      <td>93367</td>\n",
       "    </tr>\n",
       "    <tr>\n",
       "      <th>1</th>\n",
       "      <td>01003</td>\n",
       "      <td>Baldwin County</td>\n",
       "      <td>Alabama</td>\n",
       "      <td>100105</td>\n",
       "    </tr>\n",
       "    <tr>\n",
       "      <th>2</th>\n",
       "      <td>01005</td>\n",
       "      <td>Barbour County</td>\n",
       "      <td>Alabama</td>\n",
       "      <td>64745</td>\n",
       "    </tr>\n",
       "    <tr>\n",
       "      <th>3</th>\n",
       "      <td>01007</td>\n",
       "      <td>Bibb County</td>\n",
       "      <td>Alabama</td>\n",
       "      <td>67735</td>\n",
       "    </tr>\n",
       "    <tr>\n",
       "      <th>4</th>\n",
       "      <td>01009</td>\n",
       "      <td>Blount County</td>\n",
       "      <td>Alabama</td>\n",
       "      <td>79203</td>\n",
       "    </tr>\n",
       "  </tbody>\n",
       "</table>\n",
       "</div>"
      ],
      "text/plain": [
       "  fips_code     county_name state_name  mean_household_income\n",
       "0     01001  Autauga County    Alabama                  93367\n",
       "1     01003  Baldwin County    Alabama                 100105\n",
       "2     01005  Barbour County    Alabama                  64745\n",
       "3     01007     Bibb County    Alabama                  67735\n",
       "4     01009   Blount County    Alabama                  79203"
      ]
     },
     "execution_count": 36,
     "metadata": {},
     "output_type": "execute_result"
    }
   ],
   "source": [
    "meanincome_df = pd.read_csv(meanincome_output_file_path, dtype={\"fips_code\": str})\n",
    "\n",
    "meanincome_df.head()"
   ]
  },
  {
   "cell_type": "markdown",
   "metadata": {},
   "source": [
    "### Median Household Income\n",
    "\n",
    "**Dataset Link:** https://data.census.gov/table/ACSST5Y2023.S1903?q=county&y=2023\n",
    "\n",
    "**License:** Public Domain\n",
    "\n",
    "**Dataset Name (CSV):** medianincome.csv\n",
    "\n",
    "| Variable Name            | Explanation                                                                 | Import Code / Derivation | CSV  | Final Dataset |\n",
    "|--------------------------|---------------------------------------------------------------------------|--------------------------|------|--------------|\n",
    "| median_household_income  | Median household income in the past 12 months (in 2023 Inflation-Adjusted Dollars). | S1903_C03_001E | [x]  | [x]          |\n"
   ]
  },
  {
   "cell_type": "code",
   "execution_count": 37,
   "metadata": {},
   "outputs": [],
   "source": [
    "medianincome_dictionary = {\n",
    "    \"S1903_C03_001E\": \"median_household_income\"\n",
    "}\n",
    "\n",
    "medianincome_year = \"2023\"\n",
    "\n",
    "medianincome_output_file_name = \"medianincome_county_2023.csv\""
   ]
  },
  {
   "cell_type": "code",
   "execution_count": 38,
   "metadata": {},
   "outputs": [
    {
     "name": "stdout",
     "output_type": "stream",
     "text": [
      "Existing file found, removing...\n",
      "Imported Variables:['median_household_income']\n",
      "Data saved to data_uscensus\\medianincome_county_2023.csv\n",
      "data_uscensus\\medianincome_county_2023.csv has been modified and saved\n"
     ]
    }
   ],
   "source": [
    "medianincome_output_file_path, medianincome_specific_variables = uscensus_importcsv(medianincome_dictionary, medianincome_year, medianincome_output_file_name)\n",
    "\n",
    "uscensus_modify(medianincome_output_file_path, medianincome_specific_variables)"
   ]
  },
  {
   "cell_type": "code",
   "execution_count": 39,
   "metadata": {},
   "outputs": [
    {
     "data": {
      "text/html": [
       "<div>\n",
       "<style scoped>\n",
       "    .dataframe tbody tr th:only-of-type {\n",
       "        vertical-align: middle;\n",
       "    }\n",
       "\n",
       "    .dataframe tbody tr th {\n",
       "        vertical-align: top;\n",
       "    }\n",
       "\n",
       "    .dataframe thead th {\n",
       "        text-align: right;\n",
       "    }\n",
       "</style>\n",
       "<table border=\"1\" class=\"dataframe\">\n",
       "  <thead>\n",
       "    <tr style=\"text-align: right;\">\n",
       "      <th></th>\n",
       "      <th>fips_code</th>\n",
       "      <th>county_name</th>\n",
       "      <th>state_name</th>\n",
       "      <th>median_household_income</th>\n",
       "    </tr>\n",
       "  </thead>\n",
       "  <tbody>\n",
       "    <tr>\n",
       "      <th>0</th>\n",
       "      <td>01001</td>\n",
       "      <td>Autauga County</td>\n",
       "      <td>Alabama</td>\n",
       "      <td>69841</td>\n",
       "    </tr>\n",
       "    <tr>\n",
       "      <th>1</th>\n",
       "      <td>01003</td>\n",
       "      <td>Baldwin County</td>\n",
       "      <td>Alabama</td>\n",
       "      <td>75019</td>\n",
       "    </tr>\n",
       "    <tr>\n",
       "      <th>2</th>\n",
       "      <td>01005</td>\n",
       "      <td>Barbour County</td>\n",
       "      <td>Alabama</td>\n",
       "      <td>44290</td>\n",
       "    </tr>\n",
       "    <tr>\n",
       "      <th>3</th>\n",
       "      <td>01007</td>\n",
       "      <td>Bibb County</td>\n",
       "      <td>Alabama</td>\n",
       "      <td>51215</td>\n",
       "    </tr>\n",
       "    <tr>\n",
       "      <th>4</th>\n",
       "      <td>01009</td>\n",
       "      <td>Blount County</td>\n",
       "      <td>Alabama</td>\n",
       "      <td>61096</td>\n",
       "    </tr>\n",
       "  </tbody>\n",
       "</table>\n",
       "</div>"
      ],
      "text/plain": [
       "  fips_code     county_name state_name  median_household_income\n",
       "0     01001  Autauga County    Alabama                    69841\n",
       "1     01003  Baldwin County    Alabama                    75019\n",
       "2     01005  Barbour County    Alabama                    44290\n",
       "3     01007     Bibb County    Alabama                    51215\n",
       "4     01009   Blount County    Alabama                    61096"
      ]
     },
     "execution_count": 39,
     "metadata": {},
     "output_type": "execute_result"
    }
   ],
   "source": [
    "medianincome_df = pd.read_csv(medianincome_output_file_path, dtype={\"fips_code\": str})\n",
    "\n",
    "medianincome_df.head()"
   ]
  },
  {
   "cell_type": "markdown",
   "metadata": {},
   "source": [
    "## Other Sources"
   ]
  },
  {
   "cell_type": "markdown",
   "metadata": {},
   "source": [
    "### Helper Functions"
   ]
  },
  {
   "cell_type": "code",
   "execution_count": 40,
   "metadata": {},
   "outputs": [],
   "source": [
    "from othersources_functions import othersources_transformfips\n",
    "\n",
    "from othersources_functions import othersources_mapdf"
   ]
  },
  {
   "cell_type": "code",
   "execution_count": 41,
   "metadata": {},
   "outputs": [],
   "source": [
    "# Specify the input folder (= folder where original csv files are saved)\n",
    "input_folder = \"./data_othersources/originaldatasets\"\n",
    "\n",
    "# Specify the output folder (= folder where modified csv files will be saved)\n",
    "output_folder = \"./data_othersources\""
   ]
  },
  {
   "cell_type": "markdown",
   "metadata": {},
   "source": [
    "```python\n",
    "\n",
    "# Specify the file name (input / output)\n",
    "name_file_name = \"name_county_2023.csv\"\n",
    "\n",
    "# Read df from file\n",
    "name_df = pd.read_csv(f\"{input_folder}/{name_file_name}\")\n",
    "\n",
    "# Specify the desired variables and rename them\n",
    "name_column_dictionary = {\n",
    "    # \"DatasetVariable\": \"Desired Name\" \n",
    "    \"...\": \"...\",\n",
    "}\n",
    "\n",
    "# Transform the fips code column of the dataframe\n",
    "name_df = othersources_transformfips(name_df, \"fips_code column\")\n",
    "\n",
    "# Map the df to the county_df and keep only specified variables\n",
    "name_df = othersources_mapdf(name_df, name_column_dictionary, county_df)\n",
    "\n",
    "# Save df as a file \n",
    "name_df.to_csv(f\"{output_folder}/{name_file_name}\", index=False)\n"
   ]
  },
  {
   "cell_type": "markdown",
   "metadata": {},
   "source": [
    "### County Template\n",
    "\n",
    "Create a county template from an existing uscensus dataset to map the datasets from other sources.\n",
    "\n",
    "**File Name:** county_template.csv"
   ]
  },
  {
   "cell_type": "code",
   "execution_count": 42,
   "metadata": {},
   "outputs": [],
   "source": [
    "county_df = pd.read_csv(demographics_output_file_path, dtype={\"fips_code\": str})\n",
    "\n",
    "county_df = county_df[[\"fips_code\", \"county_name\", \"state_name\"]]\n",
    "\n",
    "county_df.to_csv(\"./data_othersources/county_template.csv\", index = False)"
   ]
  },
  {
   "cell_type": "markdown",
   "metadata": {},
   "source": [
    "### Geo Data"
   ]
  },
  {
   "cell_type": "code",
   "execution_count": 43,
   "metadata": {},
   "outputs": [
    {
     "name": "stdout",
     "output_type": "stream",
     "text": [
      "All FIPS Codes are now length 5.\n",
      "Number of missing values in each column:\n",
      "fips_code      0\n",
      "county_name    0\n",
      "state_name     0\n",
      "latitude       0\n",
      "longitude      0\n",
      "dtype: int64\n"
     ]
    }
   ],
   "source": [
    "geo_file_name = \"geo_county_2023.csv\"\n",
    "\n",
    "geo_df = pd.read_csv(f\"{input_folder}/{geo_file_name}\", sep=\";\")\n",
    "\n",
    "geo_df = geo_df.drop([\"Geo Shape\"], axis=1)\n",
    "\n",
    "geo_df[[\"lat\", \"lng\"]] = geo_df[\"Geo Point\"].str.split(\", \" , expand=True)\n",
    "\n",
    "geo_df[\"lat\"] = geo_df[\"lat\"].astype(float)\n",
    "geo_df[\"lng\"] = geo_df[\"lng\"].astype(float)\n",
    "\n",
    "geo_column_dictionary = {\n",
    "    \"lat\": \"latitude\",\n",
    "    \"lng\": \"longitude\"\n",
    "}\n",
    "\n",
    "geo_df = othersources_transformfips(geo_df, \"Official Code County\")\n",
    "\n",
    "geo_df = othersources_mapdf(geo_df, geo_column_dictionary, county_df)\n",
    "\n",
    "geo_df.to_csv(f\"{output_folder}/{geo_file_name}\", index=False)"
   ]
  },
  {
   "cell_type": "markdown",
   "metadata": {},
   "source": [
    "### Population"
   ]
  },
  {
   "cell_type": "code",
   "execution_count": 44,
   "metadata": {},
   "outputs": [
    {
     "name": "stdout",
     "output_type": "stream",
     "text": [
      "All FIPS Codes are now length 5.\n",
      "Number of missing values in each column:\n",
      "fips_code      0\n",
      "county_name    0\n",
      "state_name     0\n",
      "population     0\n",
      "birth_rate     0\n",
      "death_rate     0\n",
      "dtype: int64\n"
     ]
    }
   ],
   "source": [
    "population_file_name = \"population_county_2023.csv\"\n",
    "\n",
    "population_df = pd.read_csv(f\"{input_folder}/{population_file_name}\", encoding=\"latin1\")\n",
    "\n",
    "population_df = population_df.pivot(index=\"FIPStxt\", columns=\"Attribute\", values=\"Value\")\n",
    "\n",
    "population_df = population_df.reset_index()\n",
    "\n",
    "population_column_dictionary = {\n",
    "    \"POP_ESTIMATE_2023\": \"population\",\n",
    "    \"R_BIRTH_2023\": \"birth_rate\",\n",
    "    \"R_DEATH_2023\": \"death_rate\",\n",
    "}\n",
    "\n",
    "population_df = othersources_transformfips(population_df, \"FIPStxt\")\n",
    "\n",
    "population_df = othersources_mapdf(population_df, population_column_dictionary, county_df)\n",
    "\n",
    "population_df.to_csv(f\"{output_folder}/{population_file_name}\", index=False)"
   ]
  },
  {
   "cell_type": "markdown",
   "metadata": {},
   "source": [
    "### Poverty"
   ]
  },
  {
   "cell_type": "code",
   "execution_count": 45,
   "metadata": {},
   "outputs": [
    {
     "name": "stdout",
     "output_type": "stream",
     "text": [
      "All FIPS Codes are now length 5.\n",
      "Some counties were missing in the dataframe, 1 NaN values were introduced.\n",
      "Missing FIPS Codes:\n",
      "['15005']\n",
      "Number of missing values in each column:\n",
      "fips_code       0\n",
      "county_name     0\n",
      "state_name      0\n",
      "poverty_rate    1\n",
      "dtype: int64\n"
     ]
    }
   ],
   "source": [
    "poverty_file_name = \"poverty_county_2023.csv\"\n",
    "\n",
    "poverty_df = pd.read_csv(f\"{input_folder}/{poverty_file_name}\", encoding=\"latin1\")\n",
    "\n",
    "poverty_df = poverty_df[poverty_df[\"Attribute\"] == \"PCTPOVALL_2023\"]\n",
    "\n",
    "poverty_df.reset_index(drop=True, inplace=True)\n",
    "\n",
    "poverty_column_dictionary = {\n",
    "    \"Value\": \"poverty_rate\"\n",
    "}\n",
    "\n",
    "poverty_df = othersources_transformfips(poverty_df, \"FIPS_Code\")\n",
    "\n",
    "poverty_df = othersources_mapdf(poverty_df, poverty_column_dictionary, county_df)\n",
    "\n",
    "poverty_df[\"poverty_rate\"] = poverty_df[\"poverty_rate\"] / 100\n",
    "\n",
    "poverty_df.to_csv(f\"{output_folder}/{poverty_file_name}\", index=False)"
   ]
  },
  {
   "cell_type": "markdown",
   "metadata": {},
   "source": [
    "### Unemployment"
   ]
  },
  {
   "cell_type": "code",
   "execution_count": 46,
   "metadata": {},
   "outputs": [
    {
     "name": "stdout",
     "output_type": "stream",
     "text": [
      "All FIPS Codes are now length 5.\n",
      "Some counties were missing in the dataframe, 10 NaN values were introduced.\n",
      "Missing FIPS Codes:\n",
      "['09110', '09120', '09130', '09140', '09150', '09160', '09170', '09180', '09190', '15005']\n",
      "Number of missing values in each column:\n",
      "fips_code             0\n",
      "county_name           0\n",
      "state_name            0\n",
      "unemployment_rate    10\n",
      "dtype: int64\n"
     ]
    }
   ],
   "source": [
    "unemployment_file_name = \"unemployment_county_2023.csv\"\n",
    "\n",
    "unemployment_df = pd.read_csv(f\"{input_folder}/{unemployment_file_name}\", encoding=\"latin1\")\n",
    "\n",
    "unemployment_df = unemployment_df[unemployment_df[\"Attribute\"] == \"Unemployment_rate_2023\"]\n",
    "\n",
    "unemployment_df.reset_index(drop=True, inplace=True)\n",
    "\n",
    "unemployment_column_dictionary = {\n",
    "    \"Value\": \"unemployment_rate\"\n",
    "}\n",
    "\n",
    "unemployment_df = othersources_transformfips(unemployment_df, \"FIPS_Code\")\n",
    "\n",
    "unemployment_df = othersources_mapdf(unemployment_df, unemployment_column_dictionary, county_df)\n",
    "\n",
    "unemployment_df[\"unemployment_rate\"] = unemployment_df[\"unemployment_rate\"] / 100\n",
    "\n",
    "unemployment_df.to_csv(f\"{output_folder}/{unemployment_file_name}\", index=False)"
   ]
  },
  {
   "cell_type": "markdown",
   "metadata": {},
   "source": [
    "### Rural Urban"
   ]
  },
  {
   "cell_type": "code",
   "execution_count": 47,
   "metadata": {},
   "outputs": [
    {
     "name": "stdout",
     "output_type": "stream",
     "text": [
      "All FIPS Codes are now length 5.\n",
      "Number of missing values in each column:\n",
      "fips_code      0\n",
      "county_name    0\n",
      "state_name     0\n",
      "rucc           0\n",
      "dtype: int64\n"
     ]
    }
   ],
   "source": [
    "ruralurban_file_name = \"ruralurban_county_2023.csv\"\n",
    "\n",
    "ruralurban_df = pd.read_csv(f\"{input_folder}/{ruralurban_file_name}\", encoding=\"latin1\")\n",
    "\n",
    "ruralurban_df = ruralurban_df[ruralurban_df[\"Attribute\"] == \"RUCC_2023\"]\n",
    "\n",
    "ruralurban_df.reset_index(drop=True, inplace=True)\n",
    "\n",
    "ruralurban_column_dictionary = {\n",
    "    \"Value\": \"rucc\"\n",
    "}\n",
    "\n",
    "ruralurban_df = othersources_transformfips(ruralurban_df, \"FIPS\")\n",
    "\n",
    "ruralurban_df = othersources_mapdf(ruralurban_df, ruralurban_column_dictionary, county_df)\n",
    "\n",
    "# RUCC Codes Classification \n",
    "# https://www.ers.usda.gov/data-products/rural-urban-continuum-codes/documentation\n",
    "ruralurban_mapping = {1: \"Metro\", 2: \"Metro\", 3: \"Metro\",\n",
    "           4: \"Nonmetro\", 5: \"Nonmetro\", 6: \"Nonmetro\",\n",
    "           7: \"Nonmetro\", 8: \"Nonmetro\", 9: \"Nonmetro\"}\n",
    "\n",
    "ruralurban_df[\"rucc\"] = ruralurban_df[\"rucc\"].astype(int)\n",
    "\n",
    "ruralurban_df[\"area_classification\"] = ruralurban_df[\"rucc\"].map(ruralurban_mapping)\n",
    "\n",
    "ruralurban_df.to_csv(f\"{output_folder}/{ruralurban_file_name}\", index=False)\n"
   ]
  },
  {
   "cell_type": "markdown",
   "metadata": {},
   "source": [
    "### Zillow House Value Index (ZHVI)"
   ]
  },
  {
   "cell_type": "code",
   "execution_count": 48,
   "metadata": {},
   "outputs": [
    {
     "name": "stdout",
     "output_type": "stream",
     "text": [
      "All FIPS Codes are now length 5.\n",
      "Some counties were missing in the dataframe, 80 NaN values were introduced.\n",
      "Missing FIPS Codes:\n",
      "['02013', '02016', '02050', '02060', '02063', '02066', '02068', '02070', '02105', '02158', '02164', '02180', '02188', '02198', '02230', '02282', '02290', '05099', '08009', '08057', '09110', '09120', '09130', '09140', '09150', '09160', '09170', '09180', '09190', '15005', '16023', '28055', '28119', '29087', '29227', '31005', '31009', '31075', '32009', '35019', '35021', '35033', '38007', '38023', '38037', '38047', '38051', '38069', '38079', '38085', '38087', '38091', '46003', '46017', '46041', '46043', '46049', '46053', '46055', '46061', '46069', '46075', '46085', '46089', '46095', '46102', '46121', '46137', '48033', '48137', '48229', '48261', '48263', '48269', '48301', '48311', '48359', '48393', '48413', '49031']\n",
      "Number of missing values in each column:\n",
      "fips_code                0\n",
      "county_name              0\n",
      "state_name               0\n",
      "mean_zhvi_home_value    82\n",
      "dtype: int64\n"
     ]
    }
   ],
   "source": [
    "zillowhousevalue_file_name = \"zillowhousevalue_county_2023.csv\"\n",
    "\n",
    "zillowhousevalue_df = pd.read_csv(f\"{input_folder}/{zillowhousevalue_file_name}\")\n",
    "\n",
    "zillowhousevalue_df[\"fips_code\"] = (\n",
    "    zillowhousevalue_df[\"StateCodeFIPS\"].astype(str).str.zfill(2) +\n",
    "    zillowhousevalue_df[\"MunicipalCodeFIPS\"].astype(str).str.zfill(3)\n",
    ")\n",
    "\n",
    "zillowhousevalue_months = [\"2023-01-31\",\"2023-02-28\",\"2023-03-31\",\"2023-04-30\",\"2023-05-31\",\"2023-06-30\",\"2023-07-31\",\"2023-08-31\",\"2023-09-30\",\"2023-10-31\",\"2023-11-30\",\"2023-12-31\"]\n",
    "\n",
    "zillowhousevalue_df[\"mean_zhvi_home_value\"] = zillowhousevalue_df[zillowhousevalue_months].mean(axis=1)\n",
    "\n",
    "zillowhousevalue_column_dictionary = {\n",
    "    \"mean_zhvi_home_value\": \"mean_zhvi_home_value\"\n",
    "}\n",
    "\n",
    "zillowhousevalue_df = othersources_transformfips(zillowhousevalue_df, \"fips_code\")\n",
    "\n",
    "zillowhousevalue_df = othersources_mapdf(zillowhousevalue_df, zillowhousevalue_column_dictionary, county_df)\n",
    "\n",
    "zillowhousevalue_df.to_csv(f\"{output_folder}/{zillowhousevalue_file_name}\", index=False)\n"
   ]
  },
  {
   "cell_type": "markdown",
   "metadata": {},
   "source": [
    "# Combine Datasets"
   ]
  },
  {
   "cell_type": "code",
   "execution_count": 49,
   "metadata": {},
   "outputs": [],
   "source": [
    "from functools import reduce"
   ]
  },
  {
   "cell_type": "code",
   "execution_count": 52,
   "metadata": {},
   "outputs": [],
   "source": [
    "county_dfs = [\n",
    "    geo_df,\n",
    "    population_df,\n",
    "    poverty_df,\n",
    "    ruralurban_df,\n",
    "    unemployment_df,\n",
    "    zillowhousevalue_df,\n",
    "    demographics_df,\n",
    "    education_df,\n",
    "    healthinsurance_df,\n",
    "    households_df,\n",
    "    housingcost_df,\n",
    "    housingtype_df,\n",
    "    industrycomposition_df,\n",
    "    internetaccess_df,\n",
    "    laborforceparticipation_df,\n",
    "    limitedenglish_df,\n",
    "    meanincome_df,\n",
    "    medianincome_df\n",
    "]\n",
    "\n",
    "# Merge all DataFrames\n",
    "county_df = reduce(lambda left, right: pd.merge(left, right, on=[\"fips_code\", \"county_name\", \"state_name\"], how=\"inner\"), county_dfs)\n",
    "\n",
    "county_df.to_csv(\"./data/merged_county_data.csv\", index=False)"
   ]
  }
 ],
 "metadata": {
  "kernelspec": {
   "display_name": ".venv",
   "language": "python",
   "name": "python3"
  },
  "language_info": {
   "codemirror_mode": {
    "name": "ipython",
    "version": 3
   },
   "file_extension": ".py",
   "mimetype": "text/x-python",
   "name": "python",
   "nbconvert_exporter": "python",
   "pygments_lexer": "ipython3",
   "version": "3.13.2"
  }
 },
 "nbformat": 4,
 "nbformat_minor": 2
}
