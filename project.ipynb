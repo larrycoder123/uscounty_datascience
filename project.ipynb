{
 "cells": [
  {
   "cell_type": "markdown",
   "metadata": {},
   "source": [
    "# Imports"
   ]
  },
  {
   "cell_type": "code",
   "execution_count": 2,
   "metadata": {},
   "outputs": [],
   "source": [
    "import pandas as pd"
   ]
  },
  {
   "cell_type": "markdown",
   "metadata": {},
   "source": [
    "# poverty_county_2023.csv"
   ]
  },
  {
   "cell_type": "code",
   "execution_count": 3,
   "metadata": {},
   "outputs": [],
   "source": [
    "df_poverty = pd.read_csv(\"data/poverty_county_2023.csv\")"
   ]
  },
  {
   "cell_type": "markdown",
   "metadata": {},
   "source": [
    "Filter povery rate (`PCTPOVALL_2023`) and ignore states (ending with `000`), as we only want county's in our data."
   ]
  },
  {
   "cell_type": "code",
   "execution_count": 4,
   "metadata": {},
   "outputs": [
    {
     "data": {
      "text/html": [
       "<div>\n",
       "<style scoped>\n",
       "    .dataframe tbody tr th:only-of-type {\n",
       "        vertical-align: middle;\n",
       "    }\n",
       "\n",
       "    .dataframe tbody tr th {\n",
       "        vertical-align: top;\n",
       "    }\n",
       "\n",
       "    .dataframe thead th {\n",
       "        text-align: right;\n",
       "    }\n",
       "</style>\n",
       "<table border=\"1\" class=\"dataframe\">\n",
       "  <thead>\n",
       "    <tr style=\"text-align: right;\">\n",
       "      <th></th>\n",
       "      <th>FIPS_Code</th>\n",
       "      <th>Stabr</th>\n",
       "      <th>Area_Name</th>\n",
       "      <th>poverty_rate</th>\n",
       "    </tr>\n",
       "  </thead>\n",
       "  <tbody>\n",
       "    <tr>\n",
       "      <th>61</th>\n",
       "      <td>1001</td>\n",
       "      <td>AL</td>\n",
       "      <td>Autauga County</td>\n",
       "      <td>11.7</td>\n",
       "    </tr>\n",
       "    <tr>\n",
       "      <th>86</th>\n",
       "      <td>1003</td>\n",
       "      <td>AL</td>\n",
       "      <td>Baldwin County</td>\n",
       "      <td>10.0</td>\n",
       "    </tr>\n",
       "    <tr>\n",
       "      <th>111</th>\n",
       "      <td>1005</td>\n",
       "      <td>AL</td>\n",
       "      <td>Barbour County</td>\n",
       "      <td>25.5</td>\n",
       "    </tr>\n",
       "    <tr>\n",
       "      <th>136</th>\n",
       "      <td>1007</td>\n",
       "      <td>AL</td>\n",
       "      <td>Bibb County</td>\n",
       "      <td>19.4</td>\n",
       "    </tr>\n",
       "    <tr>\n",
       "      <th>161</th>\n",
       "      <td>1009</td>\n",
       "      <td>AL</td>\n",
       "      <td>Blount County</td>\n",
       "      <td>12.8</td>\n",
       "    </tr>\n",
       "  </tbody>\n",
       "</table>\n",
       "</div>"
      ],
      "text/plain": [
       "     FIPS_Code Stabr       Area_Name  poverty_rate\n",
       "61        1001    AL  Autauga County          11.7\n",
       "86        1003    AL  Baldwin County          10.0\n",
       "111       1005    AL  Barbour County          25.5\n",
       "136       1007    AL     Bibb County          19.4\n",
       "161       1009    AL   Blount County          12.8"
      ]
     },
     "execution_count": 4,
     "metadata": {},
     "output_type": "execute_result"
    }
   ],
   "source": [
    "df_poverty = df_poverty[df_poverty[\"Attribute\"] == \"PCTPOVALL_2023\"]\n",
    "df_poverty = df_poverty[df_poverty[\"FIPS_Code\"] % 1000 != 0]\n",
    "df_poverty = df_poverty.drop(columns=[\"Attribute\"])\n",
    "df_poverty = df_poverty.rename(columns={\"Value\": \"poverty_rate\"})\n",
    "df_poverty.head()"
   ]
  },
  {
   "cell_type": "markdown",
   "metadata": {},
   "source": [
    "# unemployment_county_2023.csv"
   ]
  },
  {
   "cell_type": "code",
   "execution_count": 5,
   "metadata": {},
   "outputs": [],
   "source": [
    "df_unemployment = pd.read_csv(\"data/unemployment_county_2023.csv\")"
   ]
  },
  {
   "cell_type": "code",
   "execution_count": 6,
   "metadata": {},
   "outputs": [
    {
     "data": {
      "text/html": [
       "<div>\n",
       "<style scoped>\n",
       "    .dataframe tbody tr th:only-of-type {\n",
       "        vertical-align: middle;\n",
       "    }\n",
       "\n",
       "    .dataframe tbody tr th {\n",
       "        vertical-align: top;\n",
       "    }\n",
       "\n",
       "    .dataframe thead th {\n",
       "        text-align: right;\n",
       "    }\n",
       "</style>\n",
       "<table border=\"1\" class=\"dataframe\">\n",
       "  <thead>\n",
       "    <tr style=\"text-align: right;\">\n",
       "      <th></th>\n",
       "      <th>FIPS_Code</th>\n",
       "      <th>unemployment_rate</th>\n",
       "    </tr>\n",
       "  </thead>\n",
       "  <tbody>\n",
       "    <tr>\n",
       "      <th>293</th>\n",
       "      <td>1001</td>\n",
       "      <td>2.2</td>\n",
       "    </tr>\n",
       "    <tr>\n",
       "      <th>394</th>\n",
       "      <td>1003</td>\n",
       "      <td>2.3</td>\n",
       "    </tr>\n",
       "    <tr>\n",
       "      <th>495</th>\n",
       "      <td>1005</td>\n",
       "      <td>4.4</td>\n",
       "    </tr>\n",
       "    <tr>\n",
       "      <th>596</th>\n",
       "      <td>1007</td>\n",
       "      <td>2.5</td>\n",
       "    </tr>\n",
       "    <tr>\n",
       "      <th>697</th>\n",
       "      <td>1009</td>\n",
       "      <td>2.1</td>\n",
       "    </tr>\n",
       "  </tbody>\n",
       "</table>\n",
       "</div>"
      ],
      "text/plain": [
       "     FIPS_Code  unemployment_rate\n",
       "293       1001                2.2\n",
       "394       1003                2.3\n",
       "495       1005                4.4\n",
       "596       1007                2.5\n",
       "697       1009                2.1"
      ]
     },
     "execution_count": 6,
     "metadata": {},
     "output_type": "execute_result"
    }
   ],
   "source": [
    "df_unemployment = df_unemployment[df_unemployment[\"Attribute\"] == \"Unemployment_rate_2023\"]\n",
    "df_unemployment = df_unemployment[df_unemployment[\"FIPS_Code\"] % 1000 != 0]\n",
    "df_unemployment = df_unemployment.drop(columns=[\"State\", \"Area_Name\", \"Attribute\"])\n",
    "df_unemployment = df_unemployment.rename(columns={\"Value\": \"unemployment_rate\"})\n",
    "df_unemployment.head()"
   ]
  },
  {
   "cell_type": "markdown",
   "metadata": {},
   "source": [
    "# ruralurban_county_2023.csv"
   ]
  },
  {
   "cell_type": "code",
   "execution_count": 7,
   "metadata": {},
   "outputs": [],
   "source": [
    "df_rural = pd.read_csv(\"data/ruralurban_county_2023.csv\", encoding=\"latin1\")"
   ]
  },
  {
   "cell_type": "code",
   "execution_count": 8,
   "metadata": {},
   "outputs": [
    {
     "data": {
      "text/html": [
       "<div>\n",
       "<style scoped>\n",
       "    .dataframe tbody tr th:only-of-type {\n",
       "        vertical-align: middle;\n",
       "    }\n",
       "\n",
       "    .dataframe tbody tr th {\n",
       "        vertical-align: top;\n",
       "    }\n",
       "\n",
       "    .dataframe thead th {\n",
       "        text-align: right;\n",
       "    }\n",
       "</style>\n",
       "<table border=\"1\" class=\"dataframe\">\n",
       "  <thead>\n",
       "    <tr style=\"text-align: right;\">\n",
       "      <th></th>\n",
       "      <th>FIPS</th>\n",
       "      <th>urban_rural_rate</th>\n",
       "    </tr>\n",
       "  </thead>\n",
       "  <tbody>\n",
       "    <tr>\n",
       "      <th>1</th>\n",
       "      <td>1001</td>\n",
       "      <td>2</td>\n",
       "    </tr>\n",
       "    <tr>\n",
       "      <th>4</th>\n",
       "      <td>1003</td>\n",
       "      <td>3</td>\n",
       "    </tr>\n",
       "    <tr>\n",
       "      <th>7</th>\n",
       "      <td>1005</td>\n",
       "      <td>6</td>\n",
       "    </tr>\n",
       "    <tr>\n",
       "      <th>10</th>\n",
       "      <td>1007</td>\n",
       "      <td>1</td>\n",
       "    </tr>\n",
       "    <tr>\n",
       "      <th>13</th>\n",
       "      <td>1009</td>\n",
       "      <td>1</td>\n",
       "    </tr>\n",
       "  </tbody>\n",
       "</table>\n",
       "</div>"
      ],
      "text/plain": [
       "    FIPS urban_rural_rate\n",
       "1   1001                2\n",
       "4   1003                3\n",
       "7   1005                6\n",
       "10  1007                1\n",
       "13  1009                1"
      ]
     },
     "execution_count": 8,
     "metadata": {},
     "output_type": "execute_result"
    }
   ],
   "source": [
    "df_rural = df_rural[df_rural[\"Attribute\"] == \"RUCC_2023\"]\n",
    "df_rural = df_rural.drop(columns=[\"State\", \"County_Name\", \"Attribute\"])\n",
    "df_rural = df_rural.rename(columns={\"Value\": \"urban_rural_rate\"})\n",
    "df_rural.head()"
   ]
  },
  {
   "cell_type": "markdown",
   "metadata": {},
   "source": [
    "# zillowhousevalue_county_2023.csv"
   ]
  },
  {
   "cell_type": "code",
   "execution_count": 9,
   "metadata": {},
   "outputs": [],
   "source": [
    "df_house = pd.read_csv(\"data/zillowhousevalue_county_2023.csv\")"
   ]
  },
  {
   "cell_type": "markdown",
   "metadata": {},
   "source": [
    "Calculating the average housing price over all the months and saving it in `house_value`. Also in this dataset, the state- municipal codes are sepparated, so we want to combine them (see `FIPS`)."
   ]
  },
  {
   "cell_type": "code",
   "execution_count": 10,
   "metadata": {},
   "outputs": [
    {
     "data": {
      "text/html": [
       "<div>\n",
       "<style scoped>\n",
       "    .dataframe tbody tr th:only-of-type {\n",
       "        vertical-align: middle;\n",
       "    }\n",
       "\n",
       "    .dataframe tbody tr th {\n",
       "        vertical-align: top;\n",
       "    }\n",
       "\n",
       "    .dataframe thead th {\n",
       "        text-align: right;\n",
       "    }\n",
       "</style>\n",
       "<table border=\"1\" class=\"dataframe\">\n",
       "  <thead>\n",
       "    <tr style=\"text-align: right;\">\n",
       "      <th></th>\n",
       "      <th>house_value</th>\n",
       "      <th>FIPS</th>\n",
       "    </tr>\n",
       "  </thead>\n",
       "  <tbody>\n",
       "    <tr>\n",
       "      <th>0</th>\n",
       "      <td>815764.992054</td>\n",
       "      <td>6037</td>\n",
       "    </tr>\n",
       "    <tr>\n",
       "      <th>1</th>\n",
       "      <td>285912.561042</td>\n",
       "      <td>17031</td>\n",
       "    </tr>\n",
       "    <tr>\n",
       "      <th>2</th>\n",
       "      <td>280104.828264</td>\n",
       "      <td>48201</td>\n",
       "    </tr>\n",
       "    <tr>\n",
       "      <th>3</th>\n",
       "      <td>456931.128907</td>\n",
       "      <td>4013</td>\n",
       "    </tr>\n",
       "    <tr>\n",
       "      <th>4</th>\n",
       "      <td>858380.850497</td>\n",
       "      <td>6073</td>\n",
       "    </tr>\n",
       "  </tbody>\n",
       "</table>\n",
       "</div>"
      ],
      "text/plain": [
       "     house_value   FIPS\n",
       "0  815764.992054   6037\n",
       "1  285912.561042  17031\n",
       "2  280104.828264  48201\n",
       "3  456931.128907   4013\n",
       "4  858380.850497   6073"
      ]
     },
     "execution_count": 10,
     "metadata": {},
     "output_type": "execute_result"
    }
   ],
   "source": [
    "months = [\"2023-01-31\",\"2023-02-28\",\"2023-03-31\",\"2023-04-30\",\"2023-05-31\",\"2023-06-30\",\"2023-07-31\",\"2023-08-31\",\"2023-09-30\",\"2023-10-31\",\"2023-11-30\",\"2023-12-31\",\"2024-01-31\"]\n",
    "df_house = df_house[[\"StateCodeFIPS\", \"MunicipalCodeFIPS\", *months]]\n",
    "df_house[\"house_value\"] = df_house[months].mean(axis=1)\n",
    "df_house[\"FIPS\"] = (df_house[\"StateCodeFIPS\"].astype(str) + df_house[\"MunicipalCodeFIPS\"].astype(str).str.zfill(3)).astype(int)\n",
    "df_house = df_house.drop(columns=months+[\"StateCodeFIPS\", \"MunicipalCodeFIPS\"])\n",
    "df_house.head()"
   ]
  },
  {
   "cell_type": "markdown",
   "metadata": {},
   "source": [
    "# geo_county_2025.csv"
   ]
  },
  {
   "cell_type": "code",
   "execution_count": 11,
   "metadata": {},
   "outputs": [
    {
     "data": {
      "text/html": [
       "<div>\n",
       "<style scoped>\n",
       "    .dataframe tbody tr th:only-of-type {\n",
       "        vertical-align: middle;\n",
       "    }\n",
       "\n",
       "    .dataframe tbody tr th {\n",
       "        vertical-align: top;\n",
       "    }\n",
       "\n",
       "    .dataframe thead th {\n",
       "        text-align: right;\n",
       "    }\n",
       "</style>\n",
       "<table border=\"1\" class=\"dataframe\">\n",
       "  <thead>\n",
       "    <tr style=\"text-align: right;\">\n",
       "      <th></th>\n",
       "      <th>FIPS</th>\n",
       "      <th>lat</th>\n",
       "      <th>lng</th>\n",
       "      <th>population</th>\n",
       "    </tr>\n",
       "  </thead>\n",
       "  <tbody>\n",
       "    <tr>\n",
       "      <th>0</th>\n",
       "      <td>6037</td>\n",
       "      <td>34.3219</td>\n",
       "      <td>-118.2247</td>\n",
       "      <td>9848406</td>\n",
       "    </tr>\n",
       "    <tr>\n",
       "      <th>1</th>\n",
       "      <td>17031</td>\n",
       "      <td>41.8401</td>\n",
       "      <td>-87.8168</td>\n",
       "      <td>5185812</td>\n",
       "    </tr>\n",
       "    <tr>\n",
       "      <th>2</th>\n",
       "      <td>48201</td>\n",
       "      <td>29.8578</td>\n",
       "      <td>-95.3938</td>\n",
       "      <td>4758579</td>\n",
       "    </tr>\n",
       "    <tr>\n",
       "      <th>3</th>\n",
       "      <td>4013</td>\n",
       "      <td>33.3490</td>\n",
       "      <td>-112.4915</td>\n",
       "      <td>4491987</td>\n",
       "    </tr>\n",
       "    <tr>\n",
       "      <th>4</th>\n",
       "      <td>6073</td>\n",
       "      <td>33.0343</td>\n",
       "      <td>-116.7350</td>\n",
       "      <td>3282782</td>\n",
       "    </tr>\n",
       "  </tbody>\n",
       "</table>\n",
       "</div>"
      ],
      "text/plain": [
       "    FIPS      lat       lng  population\n",
       "0   6037  34.3219 -118.2247     9848406\n",
       "1  17031  41.8401  -87.8168     5185812\n",
       "2  48201  29.8578  -95.3938     4758579\n",
       "3   4013  33.3490 -112.4915     4491987\n",
       "4   6073  33.0343 -116.7350     3282782"
      ]
     },
     "execution_count": 11,
     "metadata": {},
     "output_type": "execute_result"
    }
   ],
   "source": [
    "df_geo = pd.read_csv(\"data/geo_county_2025.csv\")\n",
    "df_geo = df_geo[[\"county_fips\",\"lat\",\"lng\",\"population\"]]\n",
    "df_geo = df_geo.rename(columns={\"county_fips\": \"FIPS\"})\n",
    "df_geo.head()"
   ]
  },
  {
   "cell_type": "markdown",
   "metadata": {},
   "source": [
    "# Merge"
   ]
  },
  {
   "cell_type": "markdown",
   "metadata": {},
   "source": [
    "Finally we merge all the different datasets by their Federal Information Processing Standard (`FIPS`). The `how=\"outer\"` parameter"
   ]
  },
  {
   "cell_type": "code",
   "execution_count": 12,
   "metadata": {},
   "outputs": [
    {
     "data": {
      "text/html": [
       "<div>\n",
       "<style scoped>\n",
       "    .dataframe tbody tr th:only-of-type {\n",
       "        vertical-align: middle;\n",
       "    }\n",
       "\n",
       "    .dataframe tbody tr th {\n",
       "        vertical-align: top;\n",
       "    }\n",
       "\n",
       "    .dataframe thead th {\n",
       "        text-align: right;\n",
       "    }\n",
       "</style>\n",
       "<table border=\"1\" class=\"dataframe\">\n",
       "  <thead>\n",
       "    <tr style=\"text-align: right;\">\n",
       "      <th></th>\n",
       "      <th>Stabr</th>\n",
       "      <th>Area_Name</th>\n",
       "      <th>poverty_rate</th>\n",
       "      <th>unemployment_rate</th>\n",
       "      <th>urban_rural_rate</th>\n",
       "      <th>house_value</th>\n",
       "      <th>lat</th>\n",
       "      <th>lng</th>\n",
       "      <th>population</th>\n",
       "    </tr>\n",
       "    <tr>\n",
       "      <th>FIPS</th>\n",
       "      <th></th>\n",
       "      <th></th>\n",
       "      <th></th>\n",
       "      <th></th>\n",
       "      <th></th>\n",
       "      <th></th>\n",
       "      <th></th>\n",
       "      <th></th>\n",
       "      <th></th>\n",
       "    </tr>\n",
       "  </thead>\n",
       "  <tbody>\n",
       "    <tr>\n",
       "      <th>1001.0</th>\n",
       "      <td>AL</td>\n",
       "      <td>Autauga County</td>\n",
       "      <td>11.7</td>\n",
       "      <td>2.2</td>\n",
       "      <td>2</td>\n",
       "      <td>232431.875906</td>\n",
       "      <td>32.5349</td>\n",
       "      <td>-86.6427</td>\n",
       "      <td>59285.0</td>\n",
       "    </tr>\n",
       "    <tr>\n",
       "      <th>1003.0</th>\n",
       "      <td>AL</td>\n",
       "      <td>Baldwin County</td>\n",
       "      <td>10.0</td>\n",
       "      <td>2.3</td>\n",
       "      <td>3</td>\n",
       "      <td>375064.367540</td>\n",
       "      <td>30.7277</td>\n",
       "      <td>-87.7226</td>\n",
       "      <td>239945.0</td>\n",
       "    </tr>\n",
       "    <tr>\n",
       "      <th>1005.0</th>\n",
       "      <td>AL</td>\n",
       "      <td>Barbour County</td>\n",
       "      <td>25.5</td>\n",
       "      <td>4.4</td>\n",
       "      <td>6</td>\n",
       "      <td>149074.674301</td>\n",
       "      <td>31.8696</td>\n",
       "      <td>-85.3932</td>\n",
       "      <td>24757.0</td>\n",
       "    </tr>\n",
       "    <tr>\n",
       "      <th>1007.0</th>\n",
       "      <td>AL</td>\n",
       "      <td>Bibb County</td>\n",
       "      <td>19.4</td>\n",
       "      <td>2.5</td>\n",
       "      <td>1</td>\n",
       "      <td>201633.074635</td>\n",
       "      <td>32.9986</td>\n",
       "      <td>-87.1265</td>\n",
       "      <td>22152.0</td>\n",
       "    </tr>\n",
       "    <tr>\n",
       "      <th>1009.0</th>\n",
       "      <td>AL</td>\n",
       "      <td>Blount County</td>\n",
       "      <td>12.8</td>\n",
       "      <td>2.1</td>\n",
       "      <td>1</td>\n",
       "      <td>222516.178747</td>\n",
       "      <td>33.9809</td>\n",
       "      <td>-86.5674</td>\n",
       "      <td>59292.0</td>\n",
       "    </tr>\n",
       "  </tbody>\n",
       "</table>\n",
       "</div>"
      ],
      "text/plain": [
       "       Stabr       Area_Name  poverty_rate  unemployment_rate  \\\n",
       "FIPS                                                            \n",
       "1001.0    AL  Autauga County          11.7                2.2   \n",
       "1003.0    AL  Baldwin County          10.0                2.3   \n",
       "1005.0    AL  Barbour County          25.5                4.4   \n",
       "1007.0    AL     Bibb County          19.4                2.5   \n",
       "1009.0    AL   Blount County          12.8                2.1   \n",
       "\n",
       "       urban_rural_rate    house_value      lat      lng  population  \n",
       "FIPS                                                                  \n",
       "1001.0                2  232431.875906  32.5349 -86.6427     59285.0  \n",
       "1003.0                3  375064.367540  30.7277 -87.7226    239945.0  \n",
       "1005.0                6  149074.674301  31.8696 -85.3932     24757.0  \n",
       "1007.0                1  201633.074635  32.9986 -87.1265     22152.0  \n",
       "1009.0                1  222516.178747  33.9809 -86.5674     59292.0  "
      ]
     },
     "execution_count": 12,
     "metadata": {},
     "output_type": "execute_result"
    }
   ],
   "source": [
    "df = pd.merge(df_poverty, df_unemployment, on=\"FIPS_Code\", how=\"outer\")\n",
    "df = pd.merge(df, df_rural, left_on=\"FIPS_Code\", right_on=\"FIPS\", how=\"outer\")\n",
    "df = df.drop(columns=[\"FIPS_Code\"])\n",
    "df = pd.merge(df, df_house, on=\"FIPS\", how=\"outer\")\n",
    "df = pd.merge(df, df_geo, on=\"FIPS\", how=\"outer\")\n",
    "df = df.set_index(\"FIPS\")\n",
    "df.head()"
   ]
  },
  {
   "cell_type": "code",
   "execution_count": 13,
   "metadata": {},
   "outputs": [],
   "source": [
    "df.to_csv(\"datatest/merged.csv\")"
   ]
  },
  {
   "cell_type": "code",
   "execution_count": 14,
   "metadata": {},
   "outputs": [
    {
     "name": "stdout",
     "output_type": "stream",
     "text": [
      "Total number of rows: 3250\n"
     ]
    }
   ],
   "source": [
    "print(\"Total number of rows:\", df.shape[0])  # Display the number of rows"
   ]
  },
  {
   "cell_type": "code",
   "execution_count": 18,
   "metadata": {},
   "outputs": [],
   "source": [
    "filtered_df = df[df['Stabr'] != 'PR']"
   ]
  },
  {
   "cell_type": "code",
   "execution_count": 19,
   "metadata": {},
   "outputs": [
    {
     "data": {
      "text/plain": [
       "3250"
      ]
     },
     "execution_count": 19,
     "metadata": {},
     "output_type": "execute_result"
    }
   ],
   "source": [
    "filtered_df.shape[0]"
   ]
  },
  {
   "cell_type": "code",
   "execution_count": null,
   "metadata": {},
   "outputs": [],
   "source": []
  }
 ],
 "metadata": {
  "kernelspec": {
   "display_name": ".venv",
   "language": "python",
   "name": "python3"
  },
  "language_info": {
   "codemirror_mode": {
    "name": "ipython",
    "version": 3
   },
   "file_extension": ".py",
   "mimetype": "text/x-python",
   "name": "python",
   "nbconvert_exporter": "python",
   "pygments_lexer": "ipython3",
   "version": "3.13.2"
  }
 },
 "nbformat": 4,
 "nbformat_minor": 2
}
