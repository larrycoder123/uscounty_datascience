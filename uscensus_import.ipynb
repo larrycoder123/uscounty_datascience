{
 "cells": [
  {
   "cell_type": "code",
   "execution_count": 1,
   "metadata": {},
   "outputs": [],
   "source": [
    "import requests\n",
    "import csv\n",
    "import os \n",
    "import pandas as pd\n",
    "import re"
   ]
  },
  {
   "cell_type": "code",
   "execution_count": 2,
   "metadata": {},
   "outputs": [],
   "source": [
    "from uscensus_functions import uscensus_importcsv\n",
    "\n",
    "from uscensus_functions import uscensus_modify"
   ]
  },
  {
   "cell_type": "code",
   "execution_count": null,
   "metadata": {},
   "outputs": [],
   "source": [
    "# Specify the desired variables and rename them\n",
    "name_dictionary = {\n",
    "    # \"USCensusVariable\": \"Desired Name\" \n",
    "    \"S_\": \"Population\",\n",
    "}\n",
    "\n",
    "# Specify the year of the data\n",
    "name_year = \"2000\"\n",
    "\n",
    "# Specify the file name for the csv file\n",
    "name_output_file_name = \"name_county_2023.csv\"\n",
    "\n",
    "name_output_file_path, name_specific_variables = uscensus_importcsv(name_dictionary, name_year, name_output_file_name)\n",
    "\n",
    "uscensus_modify(name_output_file_path, name_specific_variables)"
   ]
  },
  {
   "cell_type": "code",
   "execution_count": 3,
   "metadata": {},
   "outputs": [],
   "source": [
    "# Specify the folder where the file will be saved\n",
    "data_folder = \"data_uscensus\"\n",
    "\n",
    "# Specify the text file where the US Census API is stored\n",
    "api_file = \"apikey_uscensus.txt\"\n",
    "\n",
    "# Different data series require different api requests \n",
    "# https://censusreporter.org/topics/table-codes/\n",
    "# check api link for specific table \n",
    "series_dictionary = {\n",
    "    \"B\": \"\",\n",
    "    \"S\": \"/subject\",\n",
    "    \"DP\": \"/profile\"\n",
    "}\n",
    "\n",
    "# Specify the year of the data\n",
    "year = \"2023\""
   ]
  },
  {
   "cell_type": "markdown",
   "metadata": {},
   "source": [
    "## Demographics\n",
    "\n",
    "Link: \n",
    "- https://data.census.gov/table/ACSDP5Y2023.DP05?q=county&y=2023\n",
    "\n",
    "Variables: \n",
    "- median_age:\n",
    "    - Median Age across the total population.\n",
    "    - \"DP05_0018E\",\"Estimate!!SEX AND AGE!!Total population!!Median age (years)\"\n",
    "- sex_ratio\n",
    "    - Number of males per 100 females.\n",
    "    - \"DP05_0004E\",\"Estimate!!SEX AND AGE!!Total population!!Sex ratio (males per 100 females)\""
   ]
  },
  {
   "cell_type": "code",
   "execution_count": null,
   "metadata": {},
   "outputs": [],
   "source": [
    "demographics_dictionary = {\n",
    "    \"DP05_0018E\": \"median_age\",\n",
    "    \"DP05_0004E\": \"sex_ratio\"\n",
    "}\n",
    "\n",
    "demographics_year = \"2023\"\n",
    "\n",
    "demographics_output_file_name = \"demographics_county_2023.csv\""
   ]
  },
  {
   "cell_type": "code",
   "execution_count": null,
   "metadata": {},
   "outputs": [],
   "source": [
    "demographics_output_file_path, demographics_specific_variables = uscensus_importcsv(demographics_dictionary, demographics_year, demographics_output_file_name)\n",
    "\n",
    "uscensus_modify(demographics_output_file_path, demographics_specific_variables)"
   ]
  },
  {
   "cell_type": "code",
   "execution_count": null,
   "metadata": {},
   "outputs": [],
   "source": [
    "demographics_df = pd.read_csv(\"./datatest/demographics_county_2023.csv\", dtype={\"FIPS Code\": str})\n",
    "\n",
    "demographics_df.head()"
   ]
  },
  {
   "cell_type": "markdown",
   "metadata": {},
   "source": [
    "## Education\n",
    "\n",
    "Link: \n",
    "- https://data.census.gov/table/ACSST5Y2023.S1501?q=county+education&y=2023 \n",
    "\n",
    "Variables: \n",
    "- highschool_or_higher_pct:\n",
    "    - Median Age across the total population.\n",
    "    - \"DP05_0018E\",\"Estimate!!SEX AND AGE!!Total population!!Median age (years)\"\n",
    "- bachelors_or_higher_pct:\n",
    "    - Percentage of the Population (aged 25 years or older) that has a bachelors degree or higher.\n",
    "    - bachelors_or_higher_pct = pop25_highschool_or_higher / pop25\n",
    "    - \"S1501_C01_006E\",\"Estimate!!Total!!AGE BY EDUCATIONAL ATTAINMENT!!Population 25 years and over”\n",
    "\n",
    "Variables:\n",
    "- pop25 \n"
   ]
  },
  {
   "cell_type": "code",
   "execution_count": null,
   "metadata": {},
   "outputs": [],
   "source": [
    "demographics_dictionary = {\n",
    "    \"DP05_0018E\": \"median_age\",\n",
    "    \"DP05_0004E\": \"sex_ratio\"\n",
    "}\n",
    "\n",
    "demographics_year = \"2023\"\n",
    "\n",
    "demographics_output_file_name = \"demographics_county_2023.csv\""
   ]
  },
  {
   "cell_type": "code",
   "execution_count": null,
   "metadata": {},
   "outputs": [],
   "source": [
    "demographics_output_file_path, demographics_specific_variables = uscensus_importcsv(demographics_dictionary, demographics_year, demographics_output_file_name)\n",
    "\n",
    "uscensus_modify(demographics_output_file_path, demographics_specific_variables)"
   ]
  },
  {
   "cell_type": "code",
   "execution_count": null,
   "metadata": {},
   "outputs": [],
   "source": [
    "demographics_df = pd.read_csv(\"./datatest/demographics_county_2023.csv\", dtype={\"FIPS Code\": str})\n",
    "\n",
    "demographics_df.head()"
   ]
  },
  {
   "cell_type": "code",
   "execution_count": null,
   "metadata": {},
   "outputs": [],
   "source": []
  },
  {
   "cell_type": "code",
   "execution_count": null,
   "metadata": {},
   "outputs": [],
   "source": [
    "education_dictionary = {\n",
    "    \"S1501_C01_006E\": \"pop25\",\n",
    "    \"S1501_C01_014E\": \"pop25_highschool_or_higher\",\n",
    "    \"S1501_C01_015E\": \"pop25_bachelor_or_higher\"\n",
    "}\n",
    "\n",
    "education_output_file_name = \"education_county_2023.csv\""
   ]
  },
  {
   "cell_type": "code",
   "execution_count": null,
   "metadata": {},
   "outputs": [],
   "source": [
    "education_output_file_path, education_specific_variables = uscensus_importcsv(education_dictionary, education_year, education_output_file_name)\n",
    "\n",
    "uscensus_modify(education_output_file_path, education_specific_variables)"
   ]
  },
  {
   "cell_type": "code",
   "execution_count": null,
   "metadata": {},
   "outputs": [],
   "source": [
    "# Specify the desired variables and rename them\n",
    "internetaccess_dictionary = {\n",
    "    # \"USCensusVariable\": \"Desired Name\" \n",
    "    \"B28011_001E\": \"Total Households\",\n",
    "    \"B28011_002E\": \"Households!With an Internet Subscription\"\n",
    "}\n",
    "\n",
    "internetaccess_year = \"2023\"\n",
    "\n",
    "# Specify the file name for the csv file\n",
    "internetaccess_output_file_name = \"internetaccess_county_2023.csv\""
   ]
  },
  {
   "cell_type": "code",
   "execution_count": null,
   "metadata": {},
   "outputs": [],
   "source": [
    "internetaccess_output_file_path, internetaccess_specific_variables = uscensus_importcsv(internetaccess_dictionary, internetaccess_year, internetaccess_output_file_name)\n",
    "\n",
    "uscensus_modify(internetaccess_output_file_path, internetaccess_specific_variables)"
   ]
  },
  {
   "cell_type": "code",
   "execution_count": null,
   "metadata": {},
   "outputs": [],
   "source": [
    "# Specify the desired variables and rename them\n",
    "householdsize_dictionary = {\n",
    "    # \"USCensusVariable\": \"Desired Name\" \n",
    "    \"DP02_0001E\": \"Total Households\",\n",
    "    \"DP02_0016E\": \"Households!Average Household Size\"\n",
    "}\n",
    "\n",
    "# Specify the desired year of the data\n",
    "householdsize_year = \"2023\"\n",
    "\n",
    "# Specify the file name for the csv file\n",
    "householdsize_output_file_name = \"householdsize_county_2023.csv\""
   ]
  },
  {
   "cell_type": "code",
   "execution_count": null,
   "metadata": {},
   "outputs": [],
   "source": [
    "householdsize_output_file_path, householdsize_specific_variables = uscensus_importcsv(householdsize_dictionary, householdsize_year, householdsize_output_file_name)\n",
    "\n",
    "uscensus_modify(householdsize_output_file_path, householdsize_specific_variables)"
   ]
  },
  {
   "cell_type": "code",
   "execution_count": null,
   "metadata": {},
   "outputs": [],
   "source": [
    "# Specify the desired variables and rename them\n",
    "meanincome_dictionary = {\n",
    "    # \"USCensusVariable\": \"Desired Name\" \n",
    "    \"S1901_C01_001E\": \"Total Households\",\n",
    "    \"S1901_C01_013E\": \"Households!Mean Income\"\n",
    "}\n",
    "\n",
    "# Specify the desired year of the data\n",
    "meanincome_year = \"2023\"\n",
    "\n",
    "# Specify the file name for the csv file\n",
    "meanincome_output_file_name = \"meanincome_county_2023.csv\""
   ]
  },
  {
   "cell_type": "code",
   "execution_count": null,
   "metadata": {},
   "outputs": [],
   "source": [
    "meanincome_output_file_path, meanincome_specific_variables = uscensus_importcsv(meanincome_dictionary, meanincome_year, meanincome_output_file_name)\n",
    "\n",
    "uscensus_modify(meanincome_output_file_path, meanincome_specific_variables)"
   ]
  },
  {
   "cell_type": "code",
   "execution_count": null,
   "metadata": {},
   "outputs": [],
   "source": [
    "# Specify the desired variables and rename them\n",
    "industrycomposition_dictionary = {\n",
    "    # \"USCensusVariable\": \"Desired Name\" \n",
    "    \"S2405_C01_001E\": \"Total 16+ Employed\",\n",
    "    \"S2405_C01_002E\": \"16+ Employed!Agriculture, forestry, fishing and hunting, and mining\",\n",
    "    \"S2405_C01_003E\": \"16+ Employed!Construction\",\n",
    "    \"S2405_C01_004E\": \"16+ Employed!Manufacturing\",\n",
    "    \"S2405_C01_005E\": \"16+ Employed!Wholesale Trade\",\n",
    "    \"S2405_C01_006E\": \"16+ Employed!Retail Trade\",\n",
    "    \"S2405_C01_007E\": \"16+ Employed!Transportation and warehousing, and utilities\",\n",
    "    \"S2405_C01_008E\": \"16+ Employed!Information\",\n",
    "    \"S2405_C01_009E\": \"16+ Employed!Finance and insurance, and real estate and rental and leasing\",\n",
    "    \"S2405_C01_010E\": \"16+ Employed!Professional, scientific, and management, and administrative and waste management services\",\n",
    "    \"S2405_C01_011E\": \"16+ Employed!Educational services, and health care and social assistance\",\n",
    "    \"S2405_C01_012E\": \"16+ Employed!Arts, entertainment, and recreation, and accommodation and food services\",\n",
    "    \"S2405_C01_013E\": \"16+ Employed!Other services, except public administration\",\n",
    "    \"S2405_C01_014E\": \"16+ Employed!Public administration\"\n",
    "}\n",
    "\n",
    "# Specify the desired year of the data\n",
    "industrycomposition_year = \"2023\"\n",
    "\n",
    "# Specify the file name for the csv file\n",
    "industrycomposition_output_file_name = \"industrycomposition_county_2023.csv\""
   ]
  },
  {
   "cell_type": "code",
   "execution_count": null,
   "metadata": {},
   "outputs": [],
   "source": [
    "industrycomposition_output_file_path, industrycomposition_specific_variables = uscensus_importcsv(industrycomposition_dictionary, industrycomposition_year, industrycomposition_output_file_name)\n",
    "\n",
    "uscensus_modify(industrycomposition_output_file_path, industrycomposition_specific_variables)"
   ]
  },
  {
   "cell_type": "code",
   "execution_count": null,
   "metadata": {},
   "outputs": [],
   "source": [
    "# Specify the desired variables and rename them\n",
    "fertilityrate_dictionary = {\n",
    "    # \"USCensusVariable\": \"Desired Name\" \n",
    "    \"S1301_C01_001E\": \"Total Women 15 to 50 years\",\n",
    "    \"S1301_C02_001E\": \"Women 15 to 50 years!Women with births in the last 12 months\",\n",
    "}\n",
    "\n",
    "# Specify the desired year of the data\n",
    "fertilityrate_year = \"2023\"\n",
    "\n",
    "# Specify the file name for the csv file\n",
    "fertilityrate_output_file_name = \"fertilityrate_county_2023.csv\""
   ]
  },
  {
   "cell_type": "code",
   "execution_count": null,
   "metadata": {},
   "outputs": [],
   "source": [
    "fertilityrate_output_file_path, fertilityrate_specific_variables = uscensus_importcsv(fertilityrate_dictionary, fertilityrate_year, fertilityrate_output_file_name)\n",
    "\n",
    "uscensus_modify(fertilityrate_output_file_path, fertilityrate_specific_variables)"
   ]
  },
  {
   "cell_type": "markdown",
   "metadata": {},
   "source": [
    "### Total Population (compare to existing)\n",
    "- Median Age\n",
    "- Sex Ratio\n",
    "- https://data.census.gov/table/ACSDP5Y2023.DP05?q=county&y=2023\n",
    "- \"DP05_0001E\",\"Estimate!!SEX AND AGE!!Total population\"\n",
    "- \"DP05_0018E\",\"Estimate!!SEX AND AGE!!Total population!!Median age (years)\"\n",
    "- \"DP05_0004E\",\"Estimate!!SEX AND AGE!!Total population!!Sex ratio (males per 100 females)\"\n"
   ]
  },
  {
   "cell_type": "markdown",
   "metadata": {},
   "source": [
    "### Limited English Speaking Households Percentage \n",
    "- https://data.census.gov/table/ACSST5Y2023.S1602?q=county&y=2023\n",
    "- \"S1602_C04_001E\",\"Estimate!!Percent limited English-speaking households!!All households\""
   ]
  },
  {
   "cell_type": "code",
   "execution_count": 5,
   "metadata": {},
   "outputs": [],
   "source": [
    "# Specify the desired variables and rename them\n",
    "limitedenglish_dictionary = {\n",
    "    # \"USCensusVariable\": \"Desired Name\" \n",
    "    \"S1602_C04_001E\": \"Households!LimitedEnglishSpeaking!Percent\"\n",
    "}\n",
    "\n",
    "# Specify the desired year of the data\n",
    "limitedenglish_year = \"2023\"\n",
    "\n",
    "# Specify the file name for the csv file\n",
    "limitedenglish_output_file_name = \"limitedenglish_county_2023.csv\""
   ]
  },
  {
   "cell_type": "code",
   "execution_count": 8,
   "metadata": {},
   "outputs": [
    {
     "name": "stdout",
     "output_type": "stream",
     "text": [
      "NAME,S1602_C04_001E\n",
      "All variables belong to S series, API link will be adjusted accordingly.\n",
      "https://api.census.gov/data/2023/acs/acs5/subject?get=NAME,S1602_C04_001E&for=county:*&key=64db02f0ff22a5b790004c6424221aeb9d642921\n",
      "['NAME', 'S1602_C04_001E', 'state', 'county']\n",
      "['State', 'County', 'Name', 'Households!LimitedEnglishSpeaking!Percent']\n",
      "Imported Variables:['Households!LimitedEnglishSpeaking!Percent']\n",
      "Data saved to datatest\\limitedenglish_county_2023.csv\n",
      "datatest\\limitedenglish_county_2023.csv has been modified and saved\n"
     ]
    }
   ],
   "source": [
    "limitedenglish_output_file_path, limitedenglish_specific_variables = uscensus_importcsv(limitedenglish_dictionary, limitedenglish_year, limitedenglish_output_file_name)\n",
    "\n",
    "uscensus_modify(limitedenglish_output_file_path, limitedenglish_specific_variables)"
   ]
  },
  {
   "cell_type": "markdown",
   "metadata": {},
   "source": [
    "### Median Household Income\n",
    "- https://data.census.gov/table/ACSST5Y2023.S1903?q=county&y=2023\n",
    "- \"S1903_C03_001E\",\"Estimate!!Median income (dollars)!!HOUSEHOLD INCOME BY RACE AND HISPANIC OR LATINO ORIGIN OF HOUSEHOLDER!!Households\""
   ]
  },
  {
   "cell_type": "code",
   "execution_count": 9,
   "metadata": {},
   "outputs": [],
   "source": [
    "# Specify the desired variables and rename them\n",
    "medianincome_dictionary = {\n",
    "    # \"USCensusVariable\": \"Desired Name\" \n",
    "    \"S1903_C03_001E\": \"Households!MedianIncome\"\n",
    "}\n",
    "\n",
    "# Specify the desired year of the data\n",
    "medianincome_year = \"2023\"\n",
    "\n",
    "# Specify the file name for the csv file\n",
    "medianincome_output_file_name = \"medianincome_county_2023.csv\""
   ]
  },
  {
   "cell_type": "code",
   "execution_count": 10,
   "metadata": {},
   "outputs": [
    {
     "name": "stdout",
     "output_type": "stream",
     "text": [
      "NAME,S1903_C03_001E\n",
      "All variables belong to S series, API link will be adjusted accordingly.\n",
      "https://api.census.gov/data/2023/acs/acs5/subject?get=NAME,S1903_C03_001E&for=county:*&key=64db02f0ff22a5b790004c6424221aeb9d642921\n",
      "['NAME', 'S1903_C03_001E', 'state', 'county']\n",
      "['State', 'County', 'Name', 'Households!MedianIncome']\n",
      "Imported Variables:['Households!MedianIncome']\n",
      "Data saved to datatest\\medianincome_county_2023.csv\n",
      "datatest\\medianincome_county_2023.csv has been modified and saved\n"
     ]
    }
   ],
   "source": [
    "medianincome_output_file_path, medianincome_specific_variables = uscensus_importcsv(medianincome_dictionary, medianincome_year, medianincome_output_file_name)\n",
    "\n",
    "uscensus_modify(medianincome_output_file_path, medianincome_specific_variables)"
   ]
  },
  {
   "cell_type": "markdown",
   "metadata": {},
   "source": [
    "### Labor Force Participation Rate\n",
    "- https://data.census.gov/table/ACSST5Y2023.S2301?q=county&y=2023\n",
    "- \"S2301_C02_001E\",\"Estimate!!Labor Force Participation Rate!!Population 16 years and over\"\n"
   ]
  },
  {
   "cell_type": "code",
   "execution_count": 11,
   "metadata": {},
   "outputs": [],
   "source": [
    "# Specify the desired variables and rename them\n",
    "laborforceparticipation_dictionary = {\n",
    "    # \"USCensusVariable\": \"Desired Name\" \n",
    "    \"S2301_C02_001E\": \"LaborForceParticipation Rate\"\n",
    "}\n",
    "\n",
    "# Specify the desired year of the data\n",
    "laborforceparticipation_year = \"2023\"\n",
    "\n",
    "# Specify the file name for the csv file\n",
    "laborforceparticipation_output_file_name = \"laborforceparticipation_county_2023.csv\""
   ]
  },
  {
   "cell_type": "code",
   "execution_count": 12,
   "metadata": {},
   "outputs": [
    {
     "name": "stdout",
     "output_type": "stream",
     "text": [
      "NAME,S2301_C02_001E\n",
      "All variables belong to S series, API link will be adjusted accordingly.\n",
      "https://api.census.gov/data/2023/acs/acs5/subject?get=NAME,S2301_C02_001E&for=county:*&key=64db02f0ff22a5b790004c6424221aeb9d642921\n",
      "['NAME', 'S2301_C02_001E', 'state', 'county']\n",
      "['State', 'County', 'Name', 'LaborForceParticipation Rate']\n",
      "Imported Variables:['LaborForceParticipation Rate']\n",
      "Data saved to datatest\\laborforceparticipation_county_2023.csv\n",
      "datatest\\laborforceparticipation_county_2023.csv has been modified and saved\n"
     ]
    }
   ],
   "source": [
    "laborforceparticipation_output_file_path, laborforceparticipation_specific_variables = uscensus_importcsv(laborforceparticipation_dictionary, laborforceparticipation_year, laborforceparticipation_output_file_name)\n",
    "\n",
    "uscensus_modify(laborforceparticipation_output_file_path, laborforceparticipation_specific_variables)"
   ]
  },
  {
   "cell_type": "markdown",
   "metadata": {},
   "source": [
    "### Monthly Housing Cost\n",
    "- https://data.census.gov/table/ACSST5Y2023.S2503?q=county&y=2023\n",
    "- \"S2503_C01_024E\",\"Estimate!!Occupied housing units!!Occupied housing units!!MONTHLY HOUSING COSTS!!Median (dollars)\"\n",
    "- \"S2503_C03_024E\",\"Estimate!!Owner-occupied housing units!!Occupied housing units!!MONTHLY HOUSING COSTS!!Median (dollars)\"\n",
    "- \"S2503_C05_024E\",\"Estimate!!Renter-occupied housing units!!Occupied housing units!!MONTHLY HOUSING COSTS!!Median (dollars)\""
   ]
  },
  {
   "cell_type": "code",
   "execution_count": 15,
   "metadata": {},
   "outputs": [],
   "source": [
    "# Specify the desired variables and rename them\n",
    "housingcost_dictionary = {\n",
    "    # \"USCensusVariable\": \"Desired Name\" \n",
    "    \"S2503_C01_024E\": \"Median MonthlyHousingCost\",\n",
    "    \"S2503_C03_024E\": \"OwnerOccupied!Median MonthlyHousingCost\",\n",
    "    \"S2503_C05_024E\": \"RenterOccupied!Median MonthlyHousingCost\"\n",
    "}\n",
    "\n",
    "# Specify the desired year of the data\n",
    "housingcost_year = \"2023\"\n",
    "\n",
    "# Specify the file name for the csv file\n",
    "housingcost_output_file_name = \"housingcost_county_2023.csv\""
   ]
  },
  {
   "cell_type": "code",
   "execution_count": 16,
   "metadata": {},
   "outputs": [
    {
     "name": "stdout",
     "output_type": "stream",
     "text": [
      "NAME,S2503_C01_024E,S2503_C03_024E,S2503_C05_024E\n",
      "All variables belong to S series, API link will be adjusted accordingly.\n",
      "https://api.census.gov/data/2023/acs/acs5/subject?get=NAME,S2503_C01_024E,S2503_C03_024E,S2503_C05_024E&for=county:*&key=64db02f0ff22a5b790004c6424221aeb9d642921\n",
      "['NAME', 'S2503_C01_024E', 'S2503_C03_024E', 'S2503_C05_024E', 'state', 'county']\n",
      "['State', 'County', 'Name', 'Median MonthlyHousingCost', 'OwnerOccupied!Median MonthlyHousingCost', 'RenterOccupied!Median MonthlyHousingCost']\n",
      "Imported Variables:['Median MonthlyHousingCost', 'OwnerOccupied!Median MonthlyHousingCost', 'RenterOccupied!Median MonthlyHousingCost']\n",
      "Data saved to datatest\\housingcost_county_2023.csv\n",
      "datatest\\housingcost_county_2023.csv has been modified and saved\n"
     ]
    }
   ],
   "source": [
    "housingcost_output_file_path, housingcost_specific_variables = uscensus_importcsv(housingcost_dictionary, housingcost_year, housingcost_output_file_name)\n",
    "\n",
    "uscensus_modify(housingcost_output_file_path, housingcost_specific_variables)"
   ]
  },
  {
   "cell_type": "markdown",
   "metadata": {},
   "source": [
    "### Percentage of Households that rent or own their home:\n",
    "- https://data.census.gov/table/ACSST5Y2023.S1101?q=county&y=2023\n",
    "- \"S1101_C01_001E\",\"Estimate!!Total!!HOUSEHOLDS!!Total households\"\n",
    "- \"S1101_C01_018E\",\"Estimate!!Total!!Total households!!HOUSING TENURE!!Owner-occupied housing units\"\n",
    "- \"S1101_C01_019E\",\"Estimate!!Total!!Total households!!HOUSING TENURE!!Renter-occupied housing units\""
   ]
  },
  {
   "cell_type": "code",
   "execution_count": 19,
   "metadata": {},
   "outputs": [],
   "source": [
    "# Specify the desired variables and rename them\n",
    "housingtype_dictionary = {\n",
    "    # \"USCensusVariable\": \"Desired Name\" \n",
    "    \"S1101_C01_018E\": \"Households!OwnerOccupiedUnits!Percent\",\n",
    "    \"S1101_C01_019E\": \"Households!RenterOccupiedUnits!Percent\"\n",
    "}\n",
    "\n",
    "# Specify the desired year of the data\n",
    "housingtype_year = \"2023\"\n",
    "\n",
    "# Specify the file name for the csv file\n",
    "housingtype_output_file_name = \"housingtype_county_2023.csv\""
   ]
  },
  {
   "cell_type": "code",
   "execution_count": 20,
   "metadata": {},
   "outputs": [
    {
     "name": "stdout",
     "output_type": "stream",
     "text": [
      "NAME,S1101_C01_018E,S1101_C01_019E\n",
      "All variables belong to S series, API link will be adjusted accordingly.\n",
      "https://api.census.gov/data/2023/acs/acs5/subject?get=NAME,S1101_C01_018E,S1101_C01_019E&for=county:*&key=64db02f0ff22a5b790004c6424221aeb9d642921\n",
      "Existing file found, removing...\n",
      "['NAME', 'S1101_C01_018E', 'S1101_C01_019E', 'state', 'county']\n",
      "['State', 'County', 'Name', 'Households!OwnerOccupiedUnits!Percent', 'Households!RenterOccupiedUnits!Percent']\n",
      "Imported Variables:['Households!OwnerOccupiedUnits!Percent', 'Households!RenterOccupiedUnits!Percent']\n",
      "Data saved to datatest\\housingtype_county_2023.csv\n",
      "datatest\\housingtype_county_2023.csv has been modified and saved\n"
     ]
    }
   ],
   "source": [
    "housingtype_output_file_path, housingtype_specific_variables = uscensus_importcsv(housingtype_dictionary, housingtype_year, housingtype_output_file_name)\n",
    "\n",
    "uscensus_modify(housingtype_output_file_path, housingtype_specific_variables)"
   ]
  },
  {
   "cell_type": "markdown",
   "metadata": {},
   "source": [
    "### Health Insurance Percentage\n",
    "- https://data.census.gov/table/ACSST5Y2023.S2701?q=county&y=2023\n",
    "- \"S2701_C03_001E\",\"Estimate!!Percent Insured!!Civilian noninstitutionalized population\""
   ]
  },
  {
   "cell_type": "code",
   "execution_count": 21,
   "metadata": {},
   "outputs": [],
   "source": [
    "# Specify the desired variables and rename them\n",
    "healthinsurance_dictionary = {\n",
    "    # \"USCensusVariable\": \"Desired Name\" \n",
    "    \"S2701_C03_001E\": \"PopulationNonInstitutionalized!Insured!Percent\"\n",
    "}\n",
    "\n",
    "# Specify the desired year of the data\n",
    "healthinsurance_year = \"2023\"\n",
    "\n",
    "# Specify the file name for the csv file\n",
    "healthinsurance_output_file_name = \"healthinsurance_county_2023.csv\""
   ]
  },
  {
   "cell_type": "code",
   "execution_count": 22,
   "metadata": {},
   "outputs": [
    {
     "name": "stdout",
     "output_type": "stream",
     "text": [
      "NAME,S2701_C03_001E\n",
      "All variables belong to S series, API link will be adjusted accordingly.\n",
      "https://api.census.gov/data/2023/acs/acs5/subject?get=NAME,S2701_C03_001E&for=county:*&key=64db02f0ff22a5b790004c6424221aeb9d642921\n",
      "['NAME', 'S2701_C03_001E', 'state', 'county']\n",
      "['State', 'County', 'Name', 'PopulationNonInstitutionalized!Insured!Percent']\n",
      "Imported Variables:['PopulationNonInstitutionalized!Insured!Percent']\n",
      "Data saved to datatest\\healthinsurance_county_2023.csv\n",
      "datatest\\healthinsurance_county_2023.csv has been modified and saved\n"
     ]
    }
   ],
   "source": [
    "healthinsurance_output_file_path, healthinsurance_specific_variables = uscensus_importcsv(healthinsurance_dictionary, healthinsurance_year, healthinsurance_output_file_name)\n",
    "\n",
    "uscensus_modify(healthinsurance_output_file_path, healthinsurance_specific_variables)"
   ]
  }
 ],
 "metadata": {
  "kernelspec": {
   "display_name": ".venv",
   "language": "python",
   "name": "python3"
  },
  "language_info": {
   "codemirror_mode": {
    "name": "ipython",
    "version": 3
   },
   "file_extension": ".py",
   "mimetype": "text/x-python",
   "name": "python",
   "nbconvert_exporter": "python",
   "pygments_lexer": "ipython3",
   "version": "3.13.2"
  }
 },
 "nbformat": 4,
 "nbformat_minor": 2
}
