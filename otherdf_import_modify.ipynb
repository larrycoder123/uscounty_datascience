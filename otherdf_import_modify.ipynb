{
 "cells": [
  {
   "cell_type": "code",
   "execution_count": 1,
   "metadata": {},
   "outputs": [],
   "source": [
    "import pandas as pd"
   ]
  },
  {
   "cell_type": "code",
   "execution_count": 2,
   "metadata": {},
   "outputs": [
    {
     "data": {
      "text/plain": [
       "'\\ncounty_df = pd.read_csv(\"./datatest/education_county_2023.csv\", dtype={\"FIPS Code\": str})\\n\\ncounty_df = county_df[[\"FIPS Code\", \"County Name\", \"State Name\"]]\\n\\ncounty_df.to_csv(\"datatest/data_county.csv\", index = False)\\n\\n'"
      ]
     },
     "execution_count": 2,
     "metadata": {},
     "output_type": "execute_result"
    }
   ],
   "source": [
    "# Create a dataset which only contains the FIPS, county name and state name\n",
    "\n",
    "\"\"\"\n",
    "county_df = pd.read_csv(\"./datatest/education_county_2023.csv\", dtype={\"FIPS Code\": str})\n",
    "\n",
    "county_df = county_df[[\"FIPS Code\", \"County Name\", \"State Name\"]]\n",
    "\n",
    "county_df.to_csv(\"datatest/data_county.csv\", index = False)\n",
    "\n",
    "\"\"\" "
   ]
  },
  {
   "cell_type": "code",
   "execution_count": 3,
   "metadata": {},
   "outputs": [],
   "source": [
    "# Get a complete list of all the counties in the US, to check the datasets from other sources \n",
    "county_df = pd.read_csv(\"./datatest/data_county.csv\", dtype={\"FIPS Code\": str})"
   ]
  },
  {
   "cell_type": "code",
   "execution_count": 4,
   "metadata": {},
   "outputs": [],
   "source": [
    "# Define a helper function for dataframes for\n",
    "# 1. checking missing values \n",
    "# 2. number of counties \n",
    "# 3. check for Puerto Rico counties and remove them \n",
    "# 4. check for missing counties by comparing them to a predefined county list \n",
    "# 5. sort after Fips Codes\n"
   ]
  },
  {
   "cell_type": "code",
   "execution_count": null,
   "metadata": {},
   "outputs": [],
   "source": [
    "# replace geo dataset with this: \n",
    "# https://public.opendatasoft.com/explore/dataset/georef-united-states-of-america-county/information/?disjunctive.ste_code&disjunctive.ste_name&disjunctive.coty_code&disjunctive.coty_name&sort=year\n",
    "\n",
    "geo_df = pd.read_csv(\"./data/geo_county_2025.csv\", dtype={\"county_fips\": str})\n"
   ]
  },
  {
   "cell_type": "code",
   "execution_count": null,
   "metadata": {},
   "outputs": [],
   "source": [
    "def check_df(df, county_df, columns_to_keep):\n",
    "\n",
    "    if \"FIPS Code\" not in columns_to_keep.values():\n",
    "        raise Exception(f'Please provide a \"FIPS Code\" column in dictionary.')\n",
    "    \n",
    "    df = df[list(columns_to_keep.keys())].copy()\n",
    "\n",
    "    df.rename(columns = columns_to_keep, inplace=True)\n",
    "    \n",
    "    # Merges only the rows where both contain the FIPS Code\n",
    "    merged_df = pd.merge(county_df, df, on=[\"FIPS Code\"], how =\"inner\")\n",
    "\n",
    "    if merged_df.shape[0] != 3144: \n",
    "        missing_in_df = county_df[~county_df[\"FIPS Code\"].isin(df[\"FIPS Code\"])]\n",
    "        \n",
    "        raise Exception(f\"{df} is missing some counties\")\n",
    "\n",
    "    missing_counts = df.isnull().sum()\n",
    "    print(\"Number of missing values in each column:\")\n",
    "    print(missing_counts)\n",
    "    \n",
    "    return merged_df\n",
    "\n",
    "def turn_fips_into_string(df, fips_column):\n",
    "    df[fips_column] = df[fips_column].astype(str).str.zfill(5)\n",
    "\n",
    "    all_five_digits = (df[\"FIPS Code\"].str.len() == 5).all()\n",
    "\n",
    "    \n"
   ]
  },
  {
   "cell_type": "code",
   "execution_count": 7,
   "metadata": {},
   "outputs": [
    {
     "name": "stdout",
     "output_type": "stream",
     "text": [
      "Number of missing values in each column:\n",
      "FIPS Code     0\n",
      "Latitude      0\n",
      "Longitude     0\n",
      "Population    0\n",
      "dtype: int64\n"
     ]
    }
   ],
   "source": [
    "geo_columns_to_keep = {\n",
    "    \"county_fips\": \"FIPS Code\",\n",
    "    \"lat\": \"Latitude\",\n",
    "    \"lng\": \"Longitude\",\n",
    "    \"population\": \"Population\"\n",
    "}\n",
    "\n",
    "geo_df_test = check_df(geo_df, county_df, geo_columns_to_keep)"
   ]
  },
  {
   "cell_type": "markdown",
   "metadata": {},
   "source": []
  },
  {
   "cell_type": "code",
   "execution_count": 8,
   "metadata": {},
   "outputs": [
    {
     "data": {
      "text/html": [
       "<div>\n",
       "<style scoped>\n",
       "    .dataframe tbody tr th:only-of-type {\n",
       "        vertical-align: middle;\n",
       "    }\n",
       "\n",
       "    .dataframe tbody tr th {\n",
       "        vertical-align: top;\n",
       "    }\n",
       "\n",
       "    .dataframe thead th {\n",
       "        text-align: right;\n",
       "    }\n",
       "</style>\n",
       "<table border=\"1\" class=\"dataframe\">\n",
       "  <thead>\n",
       "    <tr style=\"text-align: right;\">\n",
       "      <th></th>\n",
       "      <th>FIPS Code</th>\n",
       "      <th>County Name</th>\n",
       "      <th>State Name</th>\n",
       "      <th>Latitude</th>\n",
       "      <th>Longitude</th>\n",
       "      <th>Population</th>\n",
       "    </tr>\n",
       "  </thead>\n",
       "  <tbody>\n",
       "    <tr>\n",
       "      <th>0</th>\n",
       "      <td>01001</td>\n",
       "      <td>Autauga County</td>\n",
       "      <td>Alabama</td>\n",
       "      <td>32.5349</td>\n",
       "      <td>-86.6427</td>\n",
       "      <td>59285</td>\n",
       "    </tr>\n",
       "    <tr>\n",
       "      <th>1</th>\n",
       "      <td>01003</td>\n",
       "      <td>Baldwin County</td>\n",
       "      <td>Alabama</td>\n",
       "      <td>30.7277</td>\n",
       "      <td>-87.7226</td>\n",
       "      <td>239945</td>\n",
       "    </tr>\n",
       "    <tr>\n",
       "      <th>2</th>\n",
       "      <td>01005</td>\n",
       "      <td>Barbour County</td>\n",
       "      <td>Alabama</td>\n",
       "      <td>31.8696</td>\n",
       "      <td>-85.3932</td>\n",
       "      <td>24757</td>\n",
       "    </tr>\n",
       "    <tr>\n",
       "      <th>3</th>\n",
       "      <td>01007</td>\n",
       "      <td>Bibb County</td>\n",
       "      <td>Alabama</td>\n",
       "      <td>32.9986</td>\n",
       "      <td>-87.1265</td>\n",
       "      <td>22152</td>\n",
       "    </tr>\n",
       "    <tr>\n",
       "      <th>4</th>\n",
       "      <td>01009</td>\n",
       "      <td>Blount County</td>\n",
       "      <td>Alabama</td>\n",
       "      <td>33.9809</td>\n",
       "      <td>-86.5674</td>\n",
       "      <td>59292</td>\n",
       "    </tr>\n",
       "  </tbody>\n",
       "</table>\n",
       "</div>"
      ],
      "text/plain": [
       "  FIPS Code     County Name State Name  Latitude  Longitude  Population\n",
       "0     01001  Autauga County    Alabama   32.5349   -86.6427       59285\n",
       "1     01003  Baldwin County    Alabama   30.7277   -87.7226      239945\n",
       "2     01005  Barbour County    Alabama   31.8696   -85.3932       24757\n",
       "3     01007     Bibb County    Alabama   32.9986   -87.1265       22152\n",
       "4     01009   Blount County    Alabama   33.9809   -86.5674       59292"
      ]
     },
     "execution_count": 8,
     "metadata": {},
     "output_type": "execute_result"
    }
   ],
   "source": [
    "geo_df_test.head()"
   ]
  },
  {
   "cell_type": "code",
   "execution_count": 9,
   "metadata": {},
   "outputs": [
    {
     "data": {
      "text/plain": [
       "3144"
      ]
     },
     "execution_count": 9,
     "metadata": {},
     "output_type": "execute_result"
    }
   ],
   "source": [
    "geo_df_test.shape[0]"
   ]
  },
  {
   "cell_type": "code",
   "execution_count": null,
   "metadata": {},
   "outputs": [],
   "source": []
  }
 ],
 "metadata": {
  "kernelspec": {
   "display_name": ".venv",
   "language": "python",
   "name": "python3"
  },
  "language_info": {
   "codemirror_mode": {
    "name": "ipython",
    "version": 3
   },
   "file_extension": ".py",
   "mimetype": "text/x-python",
   "name": "python",
   "nbconvert_exporter": "python",
   "pygments_lexer": "ipython3",
   "version": "3.13.2"
  }
 },
 "nbformat": 4,
 "nbformat_minor": 2
}
